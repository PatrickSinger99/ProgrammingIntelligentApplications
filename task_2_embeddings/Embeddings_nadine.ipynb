{
 "cells": [
  {
   "cell_type": "markdown",
   "metadata": {
    "hide_input": true
   },
   "source": [
    "# Embeddings and Transformers\n",
    "Goals of this lecture are:\n",
    "* understand word embeddings\n",
    "* fine-tune a BERT model for text classification \n",
    "* visualize BERT embeddings\n",
    "* understand multimodal embeddings from CLIP \n",
    "* use CLIP for a image-to-text retrieval system\n",
    "* implement a text-to-text retrieval system with the universal sentence encoder model\n",
    "\n",
    "## Structure of this Notebook\n",
    "In this lecture, we begin by analyzing and understanding a pre-trained word2vec model that was used in earlier modern NLP systems before transformer models were released. We still use word2vec here to get a basic understanding of how words can be represented in neural networks and why transformer models have an advantage over word2vec embeddings.\n",
    "\n",
    "After analyzing the word2vec embeddings, we fine-tune a BERT model on the provided German news dataset and visualize the BERT embeddings to get a better understanding of the differences.\n",
    "\n",
    "The next major step after transformers for language modeling was the CLIP model, which combines text with images. We analyze the CLIP embeddings for different datasets and get an idea of why CLIP can be used for zero-shot classification of image data without fine-tuning the model on new data. We then use the CLIP model to find for given images, suitable news messages.\n",
    "\n",
    "In the last part of this lecture, we implement a text-to-text retrieval system by first understanding why CLIP is not well suited for text-to-text retrieval, and then using the universal sentence encoder model for retrieving text passages.\n",
    "\n",
    "This notebook will show you how easily these models can be used with the [HuggingFace](https://huggingface.co/) and [SentenceTransformers](https://www.sbert.net/) libraries, which provide a high-level interface to the aforementioned models. This lecture is primarily about understanding the concept of embeddings rather than how to define your own architecture and train it.\n",
    "\n",
    "First, however, we start by explaining the history and evolution of text representations for machine learning algorithms.\n",
    "\n",
    "Reuqired libraries:\n",
    "```\n",
    "conda install numpy scipy\n",
    "conda install scikit-learn\n",
    "conda install numba\n",
    "pip install umap-learn\n",
    "pip install plotly\n",
    "pip install 'transformers[torch]'\n",
    "pip install sentence-transformers\n",
    "pip install gensim\n",
    "````\n",
    "\n",
    "\n",
    "## Overall Picture and Evolution Path of Word Embeddings\n",
    "\n",
    "The conventional way of modelling documents in tasks like information-retrieval, document-clustering, document-classification, sentiment-analysis, topic-classification is to represent each document as a **Bag-Of-Word**-vector $$\\mathbf{d}_i=(tf_{i,0},tf_{i,1},\\ldots tf_{i,|V|}).$$ Each component of this vector corresponds to a single term $j$ of the underlying vocabulary $V$ and the values $tf_{i,j}$ counts the frequency of term $j$ in document $i$. Instead of the term-frequency $tf_{i,j}$ it is also possible to fill the BoW-vector with \n",
    "* a binary indicator which indicates if the term $j$ appears in document $i$\n",
    "* the tf-idf-values $$tfidf_{i,j}=tf_{i,j} \\cdot log \\frac{N}{df_j},$$ where $df_j$ is the frequency of documents, in which term $j$ appears, and $N$ is the total number of documents.\n",
    "\n",
    "Independent of the values used, the BoW model represents sets of documents as 2-dimensional numeric arrays, which can easily be passed to conventional Machine Learning algorithms, such as Logistic Regression, SVM, MLPs etc. However, the major drawbacks of this approach are:\n",
    "* the order by which terms appear in the document is totally ignored\n",
    "* semantic relatedness of terms is not modelled\n",
    "* BoW- vectors are very long and sparse \n",
    "\n",
    "As sketched in the picture below, today all of these drawbacks can be circumvented by representing the words of the document by their word-vectors and passing the corresponding sequence of word vectors in order to either a CNN or a Recurrent Neural Network such as LSTM or GRU. \n",
    "\n",
    "<img src=\"./Pics/overAllPicture.png\" style=\"width:600px\" align=\"middle\">\n"
   ]
  },
  {
   "cell_type": "markdown",
   "metadata": {},
   "source": [
    "---\n",
    "## Course of Action\n",
    "\n",
    "* Please write all executable python code in ```Code```-Cells (```Cell```->```Cell Type```->```Code```) and all Text as [Markdown](http://commonmark.org/help/) in ```Markdown```-Cells\n",
    "* Describe your thinking and your decisions (where appropriate) in an extra Markdown Cell or via Python comments\n",
    "* In general: discuss all your results and comment on them (are they good/bad/unexpected, could they be improved, how?, etc.). Furthermore, visualise your data (input and output).\n",
    "* Write a short general conclusion at the end of the notebook\n",
    "* Further experiments are encouraged. However, don't forget to comment on your reasoning.\n",
    "* Use a scientific approach for all experiments (i.e. develop a hypothesis or concrete question, make observations, evaluate results)\n",
    "\n",
    "## Submission\n",
    "\n",
    "Upload your complete Notebook to the Ilias course until the start of the next lecture. One Notebook per group is sufficient. Edit the teammember table below.\n",
    "\n",
    "**Important**: Also attach a HTML version of your notebook (```File```->```Download as```->```HTML```) in addition to the ```.ipynb```-File."
   ]
  },
  {
   "cell_type": "markdown",
   "metadata": {},
   "source": [
    "| Teammember |                    |\n",
    "|------------|--------------------|\n",
    "| 1.         | Geoffrey Hinton    |\n",
    "| 2.         | Yoshua Bengio      |\n",
    "| 3.         | Yann LeCun         |\n",
    "| 4.         | Jürgen Schmidhuber |\n",
    "---"
   ]
  },
  {
   "cell_type": "markdown",
   "metadata": {},
   "source": [
    "## Part 1: Tasks on Word Embeddings\n",
    "\n",
    "Word Embeddings for many languages can be downloaded for example from e.g. [FastText](https://fasttext.cc/docs/en/english-vectors.html). After downloading they can be imported into Python as described in [DSM.ipynb](DSM.ipynb). We use pretrained word2vec embeddings trained on [Common Crawl](https://commoncrawl.org/) and [Wikipedia](https://www.wikipedia.org/). Please download the binary model for the German language from: https://fasttext.cc/docs/en/crawl-vectors.html#models\n"
   ]
  },
  {
   "cell_type": "code",
   "execution_count": null,
   "metadata": {
    "scrolled": true,
    "tags": []
   },
   "outputs": [],
   "source": [
    "from gensim.models.fasttext import load_facebook_model\n",
    "\n",
    "model = load_facebook_model('/home/stud/n/nw091/mounted_home/pia2023/task_2_embeddings/Data_nadine/german_word_embeddings.bin.gz')"
   ]
  },
  {
   "cell_type": "markdown",
   "metadata": {},
   "source": [
    "Please explain the meaning of `CBOW`, `dimension 300`, `n-grams of length 5`, `window of size 5` and `10 negatives` that were used for training of the provided word2vec models from this sentence:\n",
    "\n",
    "\"These models were trained using CBOW with position-weights, in dimension 300, with character n-grams of length 5, a window of size 5 and 10 negatives.\" (adapted from https://fasttext.cc/docs/en/crawl-vectors.html)\n",
    "\n"
   ]
  },
  {
   "cell_type": "code",
   "execution_count": null,
   "metadata": {},
   "outputs": [],
   "source": [
    "# Explanantion\n",
    "CBOW"
   ]
  },
  {
   "cell_type": "markdown",
   "metadata": {},
   "source": [
    "### Using Word Embeddings\n",
    "\n",
    "#### Task 1: Meta information of the learned Word Embedding\n",
    "For the word2vec-model display the following parameters:\n",
    "* number of different words in the learned word2vec-model\n",
    "* length of the word2vec-vectors\n",
    "* context-length, applied in training the model"
   ]
  },
  {
   "cell_type": "code",
   "execution_count": null,
   "metadata": {},
   "outputs": [],
   "source": []
  },
  {
   "cell_type": "markdown",
   "metadata": {},
   "source": [
    "#### Task 2: Access Word Embeddings\n",
    "Display the first 10 components of the vectors of words\n",
    "* *hochschule*\n",
    "* *universität*\n",
    "* *anstalt*\n",
    "\n",
    "What do you observe?"
   ]
  },
  {
   "cell_type": "code",
   "execution_count": null,
   "metadata": {},
   "outputs": [],
   "source": []
  },
  {
   "cell_type": "markdown",
   "metadata": {},
   "source": [
    "Display the words (not the word-vectors) at indices 0 to 49 of the Word-embedding. What do you observe?"
   ]
  },
  {
   "cell_type": "code",
   "execution_count": null,
   "metadata": {},
   "outputs": [],
   "source": []
  },
  {
   "cell_type": "markdown",
   "metadata": {},
   "source": [
    "### Analyse Word Similarities"
   ]
  },
  {
   "cell_type": "markdown",
   "metadata": {},
   "source": [
    "#### Task 3: Most similar words\n",
    "For a German word of your choice, display the 20 most similar words."
   ]
  },
  {
   "cell_type": "code",
   "execution_count": null,
   "metadata": {},
   "outputs": [],
   "source": []
  },
  {
   "cell_type": "markdown",
   "metadata": {},
   "source": [
    "For a pair of German words of your choice, display their similarity-value."
   ]
  },
  {
   "cell_type": "code",
   "execution_count": null,
   "metadata": {},
   "outputs": [],
   "source": []
  },
  {
   "cell_type": "markdown",
   "metadata": {},
   "source": [
    "For two sets of German words of your choice, display their similarity-value."
   ]
  },
  {
   "cell_type": "code",
   "execution_count": null,
   "metadata": {},
   "outputs": [],
   "source": []
  },
  {
   "cell_type": "markdown",
   "metadata": {},
   "source": [
    "#### Task 4: Word Relations\n",
    "Apply the Word Embedding in order to answer the following questions:\n",
    "* *Mann is to König as Frau is to ?*\n",
    "* *Paris is to Frankreich as Berlin is to ?*\n",
    "* *Student is to Hochschule as Arbeiter is to ?*"
   ]
  },
  {
   "cell_type": "code",
   "execution_count": null,
   "metadata": {},
   "outputs": [],
   "source": []
  },
  {
   "cell_type": "markdown",
   "metadata": {},
   "source": [
    "#### Task 5: Outliers\n",
    "Apply the Word Embedding in order to determine the outlier within the following set of words: *auto, motorrad, kran, essen*. "
   ]
  },
  {
   "cell_type": "code",
   "execution_count": null,
   "metadata": {},
   "outputs": [],
   "source": []
  },
  {
   "cell_type": "markdown",
   "metadata": {},
   "source": [
    "### Visualize Word Embeddings\n",
    "The following code-cell visualizes similarities of words from index 300 to 499 by transforming the high-dimensional word-vectors into a 2-dim space. The transformation is realized by [UMAP: Uniform Manifold Approximation and Projection for Dimension Reduction](https://umap-learn.readthedocs.io/en/latest/)."
   ]
  },
  {
   "cell_type": "code",
   "execution_count": null,
   "metadata": {},
   "outputs": [],
   "source": [
    "%matplotlib inline\n",
    "from matplotlib import pyplot as plt\n",
    "import numpy as np\n",
    "import umap\n",
    "umap_model=umap.UMAP(n_components=2,random_state=0)\n",
    "model2d=umap_model.fit_transform(model.wv[model.wv.index_to_key[300:500]])\n",
    "\n",
    "\n",
    "plt.figure(figsize=(19,14))\n",
    "idx=0\n",
    "for a in model2d[:300]:\n",
    "    #w=model.wv.index2word[300+idx].decode('utf-8')\n",
    "    w=model.wv.index_to_key[300+idx]\n",
    "    plt.plot(a[0],a[1],'r.')\n",
    "    plt.text(a[0],a[1],w)\n",
    "    idx+=1\n",
    "plt.show()"
   ]
  },
  {
   "cell_type": "markdown",
   "metadata": {},
   "source": [
    "#### Task 6: Visualize similarities of selected target words and their neighbors\n",
    "For each of the word in the list `targetwords` calculate the 10 nearest neighbors. Then apply the same procedure as in the code cell above in order to visualize the similarities between all words in `wordset`, where `wordset` contains the target words and for each target word the 10 nearest neighbors. What do you observe? "
   ]
  },
  {
   "cell_type": "code",
   "execution_count": null,
   "metadata": {},
   "outputs": [],
   "source": []
  },
  {
   "cell_type": "code",
   "execution_count": null,
   "metadata": {
    "tags": []
   },
   "outputs": [],
   "source": []
  },
  {
   "cell_type": "markdown",
   "metadata": {},
   "source": [
    "----"
   ]
  },
  {
   "cell_type": "markdown",
   "metadata": {},
   "source": [
    "## Part 2: Using Transformers for Text Classification\n",
    "\n",
    "In recent years Transformers have received increasing attention. Therefore we use the popular [Hugging Face Framework](https://huggingface.co/docs/transformers/model_doc/bert) to fine-tune a BERT model on our custom dataset.\n",
    "The classifier shall be able to distinguish RSS-feed news with technical content from general RSS-feed news. Training and evaluation data is available from the folder `./Data/GERMAN/`.\n",
    "\n",
    "Recap BERT Lecture: [MLBook](https://maucher.pages.mi.hdm-stuttgart.de/mlbook/transformer/attention.html#bert)\n",
    "\n",
    "Hugging Face provides thousands of different pretrained models for NLP, Visison or other tasks. They also have a [blog](https://huggingface.co/blog) and a [NLP Course](https://huggingface.co/course/chapter1/1) with Transformers.\n",
    "\n",
    "In this task we will use a the pretrained [Bert Model from deepset.ai](https://www.deepset.ai/german-bert) that was trained for hate speech detection on the GermEval18Coarse dataset and fine-tune it on our own classification task. Hugging Face provides a tutorial for a similar task in the [documentation](https://huggingface.co/transformers/v3.2.0/custom_datasets.html#sequence-classification-with-imdb-reviews). The model name used for loading the model from the library is: `deepset/bert-base-german-cased-hatespeech-GermEval18Coarse`\n",
    "\n",
    "First we need to install the Transformers library:"
   ]
  },
  {
   "cell_type": "code",
   "execution_count": null,
   "metadata": {},
   "outputs": [],
   "source": [
    "!pip install transformers[torch]"
   ]
  },
  {
   "cell_type": "code",
   "execution_count": null,
   "metadata": {},
   "outputs": [],
   "source": [
    "# check text classification models <here: https://huggingface.co/models?filter=text-classification\n",
    "BERT_MODEL_NAME = \"deepset/bert-base-german-cased-hatespeech-GermEval18Coarse\""
   ]
  },
  {
   "cell_type": "markdown",
   "metadata": {},
   "source": [
    "We set the environment variable `WANDB_DISABLED` to true so that Hugging Face is not automatically trying to connect to a Weigths & Biases account. \n",
    "\n",
    "[Weights & Biases](https://wandb.ai/) is a machine learning platform for developers to build models faster. It provides tools to track experiments and datasets, evaluate model performance, reproduce models, visualize results etc."
   ]
  },
  {
   "cell_type": "code",
   "execution_count": null,
   "metadata": {},
   "outputs": [],
   "source": [
    "import os\n",
    "import sys\n",
    "os.environ[\"WANDB_DISABLED\"] = \"true\""
   ]
  },
  {
   "cell_type": "markdown",
   "metadata": {},
   "source": [
    "### Access locally stored RSS-feed news of both categories \n",
    "News crawled from RSS feeds of category `Tech` and `General` are stored in distinct directories. In the following code-cell the paths to both directories are configured. "
   ]
  },
  {
   "cell_type": "code",
   "execution_count": null,
   "metadata": {
    "ExecuteTime": {
     "end_time": "2018-02-28T15:30:19.092680Z",
     "start_time": "2018-02-28T15:30:19.088067Z"
    }
   },
   "outputs": [],
   "source": [
    "techpath=\"./Data/GERMAN/TECH/RSS/FeedText\"\n",
    "generalpath=\"./Data/GERMAN/GENERAL/RSS/FeedText\"\n",
    "catpaths=[techpath,generalpath]"
   ]
  },
  {
   "cell_type": "markdown",
   "metadata": {},
   "source": [
    "The specified directory `techpath` must contain a list of directories. The name of each of these directories is the name of the feed, from which the news are crawled attached by the date of crawling. For example one subdirectory may be `golem-2017-11-07`. Each of this feed-and-date-specific subdirectories conatins one or more `.txt`-files. The name of each of these `.txt`-files is of format `hh-mm.txt`, i.e. it contains the daytime of crawling. If one feed is crawled multiple times per day, the feed-and-date-specific subdirectories will contain more than one `.txt`-files, each identified by the time of crawling. Below, the first lines of a sample `.txt`-file, `15-15.txt` from directory `golem-2017-11-07` are shown. Each paragraph of the file is a single news item from the *golem RSS feed*, crawled at 2017-11-07, 15.51h.\n",
    "\n",
    "![Screenshot of feedfile](./Pics/feedfile.png)\n",
    "\n"
   ]
  },
  {
   "cell_type": "markdown",
   "metadata": {},
   "source": [
    "In the following code-cell all news from all files are imported. All news from subdirectories of `techpath` are assigned to the class `Tech` (label 0) and all news from subdirectories of `generalpath` are assigned to class `GENERAL` (label 1). Each news-item is represented as a list of words, contained in the item. All item-specific word-lists are assigned to the list `texts` and the corresponding class-indices are assigned to the list `labels`. Before news-item specific word lists are appended to the `texts`-list it is checked, if they are not yet contained in this list.  "
   ]
  },
  {
   "cell_type": "code",
   "execution_count": null,
   "metadata": {
    "ExecuteTime": {
     "end_time": "2018-02-28T15:30:19.366956Z",
     "start_time": "2018-02-28T15:30:19.097007Z"
    }
   },
   "outputs": [],
   "source": [
    "# second, prepare text samples and their labels\n",
    "print('Processing text dataset')\n",
    "texts = []  # list of text samples\n",
    "labels_index = {}  # dictionary mapping label name to numeric id\n",
    "labels = []  # list of label ids\n",
    "for catlabel,categorypath in enumerate(catpaths):\n",
    "    for name in sorted(os.listdir(categorypath)):\n",
    "        feedpath = os.path.join(categorypath, name)\n",
    "        if os.path.isdir(feedpath):\n",
    "            #print(name)\n",
    "            for fname in sorted(os.listdir(feedpath)):\n",
    "                fpath = os.path.join(feedpath, fname)\n",
    "                if sys.version_info < (3,):\n",
    "                    f = open(fpath)\n",
    "                else:\n",
    "                    f = open(fpath, encoding='utf-8')\n",
    "                t = f.read()\n",
    "                news=t.split('\\n \\n')\n",
    "                for entry in news:\n",
    "                    if (len(entry)>50) and (entry not in texts): #remove duplicates\n",
    "                        #if entry not in texts:\n",
    "                        texts.append(entry)\n",
    "                        labels.append(catlabel)\n",
    "                f.close()\n",
    "print('Found %s texts.' % len(texts))"
   ]
  },
  {
   "cell_type": "code",
   "execution_count": null,
   "metadata": {
    "ExecuteTime": {
     "end_time": "2018-02-28T15:30:19.389732Z",
     "start_time": "2018-02-28T15:30:19.374554Z"
    }
   },
   "outputs": [],
   "source": [
    "print(texts[0])\n",
    "print(\"-\"*20)\n",
    "print(texts[1])\n",
    "print(\"-\"*20)\n",
    "print(texts[2])"
   ]
  },
  {
   "cell_type": "markdown",
   "metadata": {},
   "source": [
    "#### Task 0: Visualize distribution of document lengths\n",
    "Visualize the distribution of the number of words in all documents in a histogram."
   ]
  },
  {
   "cell_type": "code",
   "execution_count": null,
   "metadata": {},
   "outputs": [],
   "source": [
    "import numpy as np\n",
    "from matplotlib import pyplot as plt\n",
    "\n",
    "num_of_words = []\n",
    "\n",
    "for text in texts:\n",
    "    num_of_words.append(len(text))\n",
    "    \n",
    "# print(num_of_words)\n",
    "\n",
    "# Number of words - document\n",
    "plt.hist(num_of_words, bins=range(0,10))\n",
    "plt.xlabel(\"Label of Text\")\n",
    "plt.ylabel(\"Number of words\")"
   ]
  },
  {
   "cell_type": "markdown",
   "metadata": {},
   "source": [
    "#### Task 1: Load the Data into a custom Dataset  \n",
    "\n",
    "#### Convert texts to sequence of integers\n",
    "\n",
    "Apply the [BertTokenizer](https://huggingface.co/docs/transformers/v4.16.2/en/model_doc/bert#transformers.BertTokenizer) in order to uniquely map each word to an integer-index and to represent each text (news-item) as a sequence of integers. For more information, see the [Tokenizer-chapter](https://huggingface.co/course/chapter2/4?fw=pt) in the NLP course. Afterwards we load the custom texts into a custom Dataset. Also define the `max_length` of the sequences and use padding and truncation. We first need to split the dataset into a train and test split and then apply the tokenizer on the splits. "
   ]
  },
  {
   "cell_type": "code",
   "execution_count": null,
   "metadata": {},
   "outputs": [],
   "source": []
  },
  {
   "cell_type": "markdown",
   "metadata": {},
   "source": [
    "Then a custom Dataset can be created for training of the model. We will use a PyTorch Dataset here, as this model was trained with PyTorch and also to show that using the library with PyTorch is quite simple even though we have not used PyTorch in this course. In addition more PyTorch models are hosted on hugging face than Tensorflow models."
   ]
  },
  {
   "cell_type": "code",
   "execution_count": null,
   "metadata": {},
   "outputs": [],
   "source": []
  },
  {
   "cell_type": "markdown",
   "metadata": {},
   "source": [
    "#### Task 2: Define the Bert Model\n",
    "Next we can create a [Bert Model for Sequence Classification](https://huggingface.co/docs/transformers/model_doc/bert#transformers.BertForSequenceClassification) with the pretrained weights from the previously definded `BERT_MODEL_NAME`. We can use GPU support for training the model by calling `model = model.to('cuda')` after loading the model. This is, however, not necessary as the dataset is quite small and we also do not need to train the model for many epochs. \n",
    "\n",
    "For training the Bert-Model on a custom task we also need to set the custom number of the labels and also the flag `ignore_mismatched_sizes` to true. The parameters which can be set are listed in the [PretrainedConfig](https://huggingface.co/docs/transformers/v4.16.2/en/main_classes/configuration#transformers.PretrainedConfig)."
   ]
  },
  {
   "cell_type": "code",
   "execution_count": null,
   "metadata": {},
   "outputs": [],
   "source": []
  },
  {
   "cell_type": "markdown",
   "metadata": {},
   "source": [
    "#### Task 3: Define Training Arguments and train the Model\n",
    "Hyperparameters for training a Hugging face Transformer Model are defined in a [TrainingArguments](https://huggingface.co/docs/transformers/v4.16.2/en/main_classes/trainer#transformers.TrainingArguments)-Object. We can mostly use the default arguments, but choose an appropriate batch size. Two epochs is already enough for finetuning of the model.\n",
    "\n",
    "Additonally, we set the `evaluation_strategy`and `save_strategy` to `epoch` to make the model predicitons comparable with the CNN and LSTM-architecture. You also need to define a suitable value for `logging_steps`. This value should be smaller than the steps needed to complete an epoch as otherwise no values will be logged in the first epochs."
   ]
  },
  {
   "cell_type": "code",
   "execution_count": null,
   "metadata": {},
   "outputs": [],
   "source": []
  },
  {
   "cell_type": "markdown",
   "metadata": {},
   "source": [
    "Now we instantiate a [Trainer](https://huggingface.co/transformers/v3.2.0/main_classes/trainer.html#transformers.Trainer) with the defined model, training arguments and both datasets: "
   ]
  },
  {
   "cell_type": "code",
   "execution_count": null,
   "metadata": {},
   "outputs": [],
   "source": []
  },
  {
   "cell_type": "markdown",
   "metadata": {},
   "source": [
    "Finally we can train the model:"
   ]
  },
  {
   "cell_type": "code",
   "execution_count": null,
   "metadata": {},
   "outputs": [],
   "source": []
  },
  {
   "cell_type": "markdown",
   "metadata": {},
   "source": [
    "#### Task 4: Add an Evaluation Metric while Training the Model\n",
    "As you should have already noticed, by default Hugging Face returns only loss and no other metrics. To get metrics for our training epochs, we should set the `compute_metrics` parameter of the Trainer. Define a function with the approriate metrics so that you can compare your metrics to the previous models. An example of a compute metrics function can be found [here](https://huggingface.co/transformers/v3.0.2/training.html#trainer).\n",
    "\n",
    "Then retrain your model and interpret the training results."
   ]
  },
  {
   "cell_type": "code",
   "execution_count": null,
   "metadata": {
    "scrolled": true
   },
   "outputs": [],
   "source": []
  },
  {
   "cell_type": "code",
   "execution_count": null,
   "metadata": {},
   "outputs": [],
   "source": []
  },
  {
   "cell_type": "code",
   "execution_count": null,
   "metadata": {},
   "outputs": [],
   "source": []
  },
  {
   "cell_type": "markdown",
   "metadata": {},
   "source": [
    "# Part 3: Visualize BERT embeddings"
   ]
  },
  {
   "cell_type": "markdown",
   "metadata": {},
   "source": [
    "#### Task 1: Bert for Inference and compare example Sentences\n",
    "After the model is trained, we can visualize the embeddings for the dataset and use the model for inference. For getting the hidden states of the model prediciton, you have to pass `output_hidden_states=True` to the forward/call method of the model. Additionally, you can pass `return_dict=True` to get a [BaseModelOutput](https://huggingface.co/docs/transformers/v4.27.2/en/main_classes/output#transformers.modeling_outputs.BaseModelOutput)-object, where you can then access the `last_hidden_state`-attribute.  \n",
    "\n",
    "To understand the difference of the embeddings, you can use two example sentences where one word in the middle differs and compare the embeddings of both sentences. \n",
    "For comparing the two example sentences use `torch.isclose(first_sentence, second_sentence, atol=1e-05)` [Doc](https://pytorch.org/docs/stable/generated/torch.isclose.html). The `atol` parameter controls which numerical precision satsifies the `isclose` condition.\n",
    "\n",
    "What can you observe in contrast to the word2vec embeddings? What is the main difference? "
   ]
  },
  {
   "cell_type": "code",
   "execution_count": null,
   "metadata": {},
   "outputs": [],
   "source": []
  },
  {
   "cell_type": "code",
   "execution_count": null,
   "metadata": {},
   "outputs": [],
   "source": []
  },
  {
   "cell_type": "markdown",
   "metadata": {},
   "source": [
    "#### Task 2: Create Embeddings for whole Dataset\n",
    "\n",
    "Now we can create the embeddings for the entire dataset. Store the embeddings in a list so that we can visualize the embedding space. We need to use a dimensional reduction method like UMAP, which was used previously to visualize the word2vec embeddings. Average the embeddings over the first dimension so that we get a 2-dimensional tensor with `(number of texts, size of bert embedding)`.\n",
    "\n",
    "For visualization, we can use a [Plotly scatter plot](https://plotly.com/python/line-and-scatter/). To analyze which sentences are close to each other in the embedding space, set the news text as hover data. Display only the first 100 characters of the news article, otherwise the hover box will be to large."
   ]
  },
  {
   "cell_type": "code",
   "execution_count": null,
   "metadata": {},
   "outputs": [],
   "source": []
  },
  {
   "cell_type": "markdown",
   "metadata": {},
   "source": [
    "# Part 4: Visualize CLIP embeddings\n",
    "\n",
    "This part was inpsired by: https://medium.com/mlearning-ai/having-fun-with-clip-features-part-i-29dff92bbbcd\n",
    "\n",
    "After covering the differences of the transformer and word2vec embeddings, we will analyze the multimodal embeddings generated from the [OpenAI CLIP](https://openai.com/research/clip). Unlike GPT-4 the CLIP model was still released open source with pretrainend weights. We will use the pretrained weights, so we do not need to finetune the model. \n",
    "\n",
    "The main goal of this chapter is to understand why CLIP can be used for zero-shot classification on image datasets. Therefore, we analyze two different datasets, [CIFAR-10](https://www.cs.toronto.edu/~kriz/cifar.html) and the good old [MNIST](https://paperswithcode.com/dataset/mnist) dataset. \n",
    "\n",
    "\n",
    "## CLIP Overview\n",
    "CLIP, Contrastive Language-Image Pre-training, was trained on over 400M image and text pairs collected from publicly available resources on the internet. A text-image pair consists of the image and a caption. You can think of the caption as the description of the image, such as when someone uploads a picture to Instagram and briefly describes what she/he is doing. \n",
    "\n",
    "<img src=\"Pics/clip-training.svg\" width=500 />\n",
    "The figure above shows an overview of the training objective. During training, CLIP is incentivized to match each image in the current batch to the correct caption. Then the loss for both encoders is calculated and backpropagated. This pushes the representation ob both encoders onto a common latent space. All other examples in the current batch are negative examples, as the caption doesn't fit to the image. This is called contrastive learning. The goal of contrastive learning is to learn representations in which the embeddings of similar instances are close to each other, while different instances are further away. \n",
    "\n",
    "For using CLIP in a zero-shot way to classify datasets, we generate text prompts for all classes in the style of `a photo of a {class_name}`. Then embeddings are created for all images and text prompts. To classify which image belongs to which class, the cosine similarity between the text prompts and image embeddings is calculated and the text prompt with the highest similarity is selected. See also the following image:\n",
    "<img src=\"Pics/clip-overview.svg\" width=500 />\n",
    "(both pictures from https://openai.com/research/clip)\n",
    "\n",
    "## Projection onto the same embedding space\n",
    "We will use UMAP again for dimensional reduction. Unlike the visualization of the BERT and word2vec embeddings, CLIP consists of two different encoders, one for the image and one for the text. UMAP is able to map the embedding spaces of both encoders onto the same embedding space by first fitting and transforming the embedding space of the image dataset, and then using the fitted UMAP model to map the text embedding space onto the image embedding space. \n",
    "\n",
    "We will provide a function for plotting the text prompts into the embedding space, as this is a bit more complicated, to get matching colors for the text prompts and the labels of the images. It is also necessary to sort the image embeddings by the labels, before plotting the data. This ensures, that we can match the colors of the text prompts and the images. \n",
    "\n",
    "From now on we will also use the [SentenceTransformers](https://www.sbert.net/) library, which is another abstraction of the HuggingFace library and thus also easier to use. For further information on how to use CLIP with the SentenceTransformer library, see the [docs](https://www.sbert.net/examples/applications/image-search/README.html).\n",
    "\n",
    "The CLIP model can be loaded with the name `clip-ViT-B-32`.\n"
   ]
  },
  {
   "cell_type": "code",
   "execution_count": 1,
   "metadata": {},
   "outputs": [
    {
     "name": "stderr",
     "output_type": "stream",
     "text": [
      "/opt/miniconda3/envs/python3/lib/python3.9/site-packages/tqdm/auto.py:21: TqdmWarning: IProgress not found. Please update jupyter and ipywidgets. See https://ipywidgets.readthedocs.io/en/stable/user_install.html\n",
      "  from .autonotebook import tqdm as notebook_tqdm\n",
      "2023-04-20 10:55:19.953463: I tensorflow/core/platform/cpu_feature_guard.cc:182] This TensorFlow binary is optimized to use available CPU instructions in performance-critical operations.\n",
      "To enable the following instructions: AVX2 FMA, in other operations, rebuild TensorFlow with the appropriate compiler flags.\n",
      "2023-04-20 10:55:21.442222: W tensorflow/compiler/tf2tensorrt/utils/py_utils.cc:38] TF-TRT Warning: Could not find TensorRT\n"
     ]
    }
   ],
   "source": [
    "from sentence_transformers import SentenceTransformer\n",
    "\n",
    "# Load CLIP model (Non-Multilingual)\n",
    "model = SentenceTransformer('clip-ViT-B-32')\n",
    "\n",
    "# There is a warning as output, but it works anyway"
   ]
  },
  {
   "cell_type": "code",
   "execution_count": 18,
   "metadata": {},
   "outputs": [
    {
     "name": "stderr",
     "output_type": "stream",
     "text": [
      "Found cached dataset mnist (/home/stud/n/nw091/.cache/huggingface/datasets/mnist/mnist/1.0.0/9d494b7f466d6931c64fb39d58bb1249a4d85c9eb9865d9bc20960b999e2a332)\n",
      "100%|██████████| 2/2 [00:00<00:00, 207.38it/s]\n",
      "Found cached dataset cifar10 (/home/stud/n/nw091/.cache/huggingface/datasets/cifar10/plain_text/1.0.0/447d6ec4733dddd1ce3bb577c7166b986eaa4c538dcd9e805ba61f35674a9de4)\n",
      "100%|██████████| 2/2 [00:00<00:00, 305.75it/s]\n"
     ]
    }
   ],
   "source": [
    "# Installing huggigface datasets and adjusting to warnings\n",
    "# !pip install datasets\n",
    "# !pip install --force-reinstall charset-normalizer==3.1.0\n",
    "\n",
    "# Load Embeddings from HuggingFace\n",
    "from datasets import load_dataset\n",
    "dataset_mnist = load_dataset(\"mnist\")\n",
    "dataset_cifar10 = load_dataset(\"cifar10\")"
   ]
  },
  {
   "cell_type": "code",
   "execution_count": 35,
   "metadata": {},
   "outputs": [
    {
     "name": "stdout",
     "output_type": "stream",
     "text": [
      "2\n",
      "DatasetDict({\n",
      "    train: Dataset({\n",
      "        features: ['img', 'label'],\n",
      "        num_rows: 50000\n",
      "    })\n",
      "    test: Dataset({\n",
      "        features: ['img', 'label'],\n",
      "        num_rows: 10000\n",
      "    })\n",
      "})\n"
     ]
    },
    {
     "data": {
      "text/plain": [
       "0"
      ]
     },
     "execution_count": 35,
     "metadata": {},
     "output_type": "execute_result"
    }
   ],
   "source": [
    "# print(dataset_cifar10.__dict__) -> Output: {}\n",
    "\n",
    "dataset_cifar10['train'][:1280]\n",
    "print(len(dataset_cifar10))\n",
    "print(dataset_cifar10)\n",
    "\n",
    "# Ouput of first image\n",
    "dataset_cifar10['train'][0]['label']\n",
    "    "
   ]
  },
  {
   "cell_type": "code",
   "execution_count": 49,
   "metadata": {},
   "outputs": [
    {
     "data": {
      "text/plain": [
       "['airplane',\n",
       " 'automobile',\n",
       " 'bird',\n",
       " 'cat',\n",
       " 'deer',\n",
       " 'dog',\n",
       " 'frog',\n",
       " 'horse',\n",
       " 'ship',\n",
       " 'truck']"
      ]
     },
     "execution_count": 49,
     "metadata": {},
     "output_type": "execute_result"
    }
   ],
   "source": [
    "# Convert label number to string\n",
    "dataset_cifar10['train'][0]['label']\n",
    "\n",
    "dataset_cifar10['train'].features['label'].names\n",
    "\n",
    "class\n",
    "# tokenized_batch[\"labels\"] = [str_to_int[label] for label in batch[\"labels\"]]"
   ]
  },
  {
   "cell_type": "code",
   "execution_count": null,
   "metadata": {},
   "outputs": [],
   "source": [
    "import plotly.express as px\n",
    "import umap\n",
    "import pandas as pd\n",
    "\n",
    "\"\"\"\n",
    "This function plots the low dimensional text prompts embeddings \n",
    "onto the same figure with a x marker to distinguish them from the image embeddings\n",
    "\n",
    "Parameters:\n",
    "    low_dim_text_embeddings: the 2-dimensional text prompt embeddings after the UMAP transform\n",
    "    figure: the plotly figure, returned by the px.scatter function\n",
    "    classes: the sorted classes of the dataset\n",
    "\"\"\"\n",
    "def plot_text_prompt_embeddings(low_dim_text_embeddings, figure, classes):\n",
    "    l, c = len(px.colors.qualitative.Plotly), len(low_dim_text_embeddings)\n",
    "    df, colors = pd.DataFrame(low_dim_text_embeddings), (px.colors.qualitative.Plotly * ((c // l) + 1))[:c]\n",
    "    figure.add_scatter(x=df[0], y=df[1], hovertext=classes, mode='markers', marker={'symbol':\n",
    "                   'x', 'size':20, 'color': colors, 'opacity':0.8, 'line': dict(width=2, color=\"DarkSlateGrey\")})\n",
    "\n",
    "\n",
    "\"\"\"\n",
    "This function should load a dataset with a given name from the HuggingFace datasets\n",
    "and create the embeddings for the images and class labels.\n",
    "You need to create the automatic text prompts in the style of \"a photo of a {class_name}\" for each class.\n",
    "\n",
    "It is also sufficient to plot a large enough subset of the data. \n",
    "n=1280 is already good enough to see, how the embedding space is clustered.\n",
    "It could be that the keys in which the images are stored are not always the same.\n",
    "\n",
    "Parameters:\n",
    "    name: the name of the dataset, e.g. 'cifar10' or 'mnist'\n",
    "    n: the number of images for which embeddings should be created.\n",
    "    \n",
    "Return: image embeddings, text embeddings, labels \n",
    "\"\"\"\n",
    "def load_embeddings_for_dataset(name, n=1280):c\n",
    "    # Load Embeddings from HuggingFace\n",
    "    from datasets import load_dataset\n",
    "    dataset_mnist = load_dataset(\"mnist\")\n",
    "    dataset_cifar10 = load_dataset(\"cifar10\")\n",
    "    \n",
    "    dataset_cifar10.__dict__\n",
    "    \n",
    "    # check if the embeddings were already created\n",
    "    if os.path.exists('img_emb_file') and os.path.exists('text_emb_file'):\n",
    "        pass\n",
    "         \n",
    "    else:\n",
    "        # create new embeddings for the text prompts and images\n",
    "        use_precomputed_embeddings = True\n",
    "        \n",
    "        # if use_precomputed_embeddings:\n",
    "            # class_name = '\n",
    "        print(\"a photo of a {class_name}\")\n",
    "        \n",
    "        \n",
    "        # Embeddings in zwei Schritten\n",
    "        # TODO embeddings = model.encode(sentences)\n",
    "\n",
    "        # TODO\n",
    "        img_names = list(glob.glob('photos/*.jpg'))\n",
    "        print(\"Images:\", len(img_names))\n",
    "        img_emb = img_model.encode([Image.open(filepath) for filepath in img_names], batch_size=128, convert_to_tensor=True, show_progress_bar=True)\n",
    "\n",
    "        # and store them on the disk so that we not always need to calculate the embeddings\n",
    "        pass\n",
    "        \n",
    "    return # image embeddings, text embeddings, labels \n",
    "\n",
    "\n",
    "\"\"\"\n",
    "This function transforms the data so that we can plot them. \n",
    "First, use UMAP to reduce the embeddings into 2 dimensions.\n",
    "Then use px.scatter to plot the image embeddings, use the class labels as the color of the data point.\n",
    "\n",
    "Parameters:\n",
    "    img_embeddings: the image embeddings from the CLIP model\n",
    "    text_embeddings: the text embeddings from teh CLIP model\n",
    "    labels: the labels for the images\n",
    "\"\"\"\n",
    "def plot_embeddings(img_embeddings, text_embeddings, labels):\n",
    "    # use UMAP to reduce the dimensionality of the image data\n",
    "    # ToDo: So ähnlich:\n",
    "    # umap_model=umap.UMAP(n_components=2,random_state=0)\n",
    "    # model2d=umap_model.fit_transform(model.wv[model.wv.index_to_key[300:500]])\n",
    "    \n",
    "    # plot the low dim data\n",
    "\n",
    "    #plot_text_prompt_embeddings(low_dim_text_embeddings, fig, classes)\n",
    "\n",
    "    #fig.show()\n",
    "    pass    "
   ]
  },
  {
   "cell_type": "markdown",
   "metadata": {},
   "source": [
    "### Task 1: CIFAR10 Dataset\n",
    "\n",
    "The evaluation of the CIFAR10 dataset. Can you draw some conclusions about CLIP and the dataset?"
   ]
  },
  {
   "cell_type": "markdown",
   "metadata": {},
   "source": [
    "<font color=\"blue\"><b>Conclusion:</b></font>\n",
    "CLIP seems like an efficient way of learning deep connections between image representation and matching text. The contrastive learning approach therefore is approachable."
   ]
  },
  {
   "cell_type": "markdown",
   "metadata": {},
   "source": [
    "### Task 2: MNIST dataset\n",
    "The evaluation of the MNIST dataset. Can you draw some conclusions about CLIP and the dataset?"
   ]
  },
  {
   "cell_type": "markdown",
   "metadata": {},
   "source": [
    "<font color=\"blue\"><b>Conclusion:</b></font>"
   ]
  },
  {
   "cell_type": "code",
   "execution_count": null,
   "metadata": {},
   "outputs": [],
   "source": [
    "- Not as good as CIFAR10\n",
    "    - Latent space is clustered (single cluster for each class)\n",
    "- It seems like the pairs that the black and white images of MNIST "
   ]
  },
  {
   "cell_type": "markdown",
   "metadata": {},
   "source": [
    "### Task 3: Custom Dataset\n",
    "\n",
    "After analyzing the CIFAR10 and MNIST dataset, perform the same evaluation on a dataset of your choice. "
   ]
  },
  {
   "cell_type": "code",
   "execution_count": null,
   "metadata": {},
   "outputs": [],
   "source": [
    "CIFAR-100? --> 100 classes instead of 10; number suffix refers to the number of classes / categories\n",
    "Fashion MNIST: still only 10 labels. The more labels, the more\n",
    "Imagenet\n",
    "PASCAL\n",
    "VOC\n",
    "COCO"
   ]
  },
  {
   "cell_type": "markdown",
   "metadata": {},
   "source": [
    "# Part 5: Text and Image Retrieval System\n",
    "\n",
    "In this section, we will use CLIP to match images to news articles. Therefore, we need to create text embeddigs for the whole dataset. As we are working with German news articles, we have to use the multilingual version of CLIP with the model name `clip-ViT-B-32-multilingual-v1` for encoding the text. For the images, we still use the same model as before `clip-ViT-B-32`. For this notebook, it is not necessary to understand the details of how the CLIP text encoder was adapted to more languages, but if this topic is of interest, you can read the paper here: [Making Monolingual Sentence Embeddings Multilingual using Knowledge Distillation](https://arxiv.org/abs/2004.09813)\n",
    "\n",
    "As an side experiment, we will also try to use CLIP for text-to-text retrieval and check if it is possible to use CLIP for zero-shot text classification."
   ]
  },
  {
   "cell_type": "markdown",
   "metadata": {},
   "source": [
    "### Task 1: Create embeddings for all news articels with the CLIP text encoder\n",
    "\n",
    "The maximum sequence length of the CLIP text encoder is unfortunately not very long, but we can simply truncate the news article to the first 170 characters so that the text encoder can create embeddings for all articles."
   ]
  },
  {
   "cell_type": "code",
   "execution_count": null,
   "metadata": {},
   "outputs": [],
   "source": [
    "# Here we load the multilingual CLIP model. Note, this model can only encode text.\n",
    "# If you need embeddings for images, you must load the 'clip-ViT-B-32' model\n",
    "text_encoder = SentenceTransformer('clip-ViT-B-32-multilingual-v1')"
   ]
  },
  {
   "cell_type": "code",
   "execution_count": null,
   "metadata": {},
   "outputs": [],
   "source": []
  },
  {
   "cell_type": "markdown",
   "metadata": {},
   "source": [
    "### Task 2: Match News Articles to Images\n",
    "\n",
    "Define a function `show_news_for_img(img_path, topk=5)`, which takes an image path as input and an integer `topk` that defines how many of the best matching news articles should be displayed. For evaluation, you can select some example images (minimum 5) from [Unsplash](https://unsplash.com/) and analyze how good the best 5 news articles match to the image.\n",
    "\n",
    "The function should always display the image and afterwards the topk news articles and the similarity of the news article and image.\n",
    "\n",
    "For calculating which news article fits best to an image, use the [cosine similarity](https://scikit-learn.org/stable/modules/generated/sklearn.metrics.pairwise.cosine_similarity.html) metric provided from Scikit-learn. "
   ]
  },
  {
   "cell_type": "code",
   "execution_count": null,
   "metadata": {},
   "outputs": [],
   "source": []
  },
  {
   "cell_type": "markdown",
   "metadata": {},
   "source": [
    "### Task 3: CLIP for zero-shot text classification\n",
    "\n",
    "In this experiment, analyze how good CLIP is for zero-shot text classification.\n",
    "Use `class_prompts = ['Dies ist ein Technischer Text', 'Dies ist ein Genereller Text']` as the zero-shot class text prompts to assign the news articles to one of the two categories.\n",
    "\n",
    "Then calculate the cosine similarity between the news articles and the text and check which class has the higher similarity. Calculate the accuracy of the zero-shot text classifier. How do you interpret the results?\n"
   ]
  },
  {
   "cell_type": "code",
   "execution_count": null,
   "metadata": {},
   "outputs": [],
   "source": []
  },
  {
   "cell_type": "markdown",
   "metadata": {},
   "source": [
    "### Task 4: CLIP for text-to-text retrieval\n",
    "\n",
    "Define a function `show_news_for_keywords(keywords, topk=5)`, which takes a string as input and an integer topk that defines how many of the best matching news articles should be displayed. For evaluation, try out some different keywords such as `Sport Fußball` or `Donald Trump` and interpret the best matching news articles. What final conclusions can you draw about the CLIP model? Why do you think CLIP shows this kind of behavior? \n",
    "\n",
    "The function should always display the keywords and then the top news articles, as well as the similarity of the news article to the keywords."
   ]
  },
  {
   "cell_type": "code",
   "execution_count": null,
   "metadata": {},
   "outputs": [],
   "source": []
  },
  {
   "cell_type": "markdown",
   "metadata": {},
   "source": [
    "### Bonus: Image-to-image retrieval with CLIP\n",
    "\n",
    "As an bonus experiment you can test, how good CLIP is for image-to-image retrieval. This should be straightforward to implement, since you already know, how to use clip for image-to-text and text-to-text retrieval. \n",
    "\n",
    "What hypothesis do you have regarding the performance of CLIP's image-to-image capabilities? "
   ]
  },
  {
   "cell_type": "markdown",
   "metadata": {},
   "source": [
    "# Part 6: Semantic Search with only text-based model\n",
    "\n",
    "In the final experiment, we will use the [Multilingual Universal Sentence Encoder for Semantic Retrieval](https://ai.googleblog.com/2019/07/multilingual-universal-sentence-encoder.html) model for text-to-text retrieval. \n",
    "The model name is `distiluse-base-multilingual-cased-v1`.\n",
    "\n",
    "CLIP uses one image and one text encoder to link text and images. In contrast this model uses a shared text encoder as it only computes embeddings for text passages. Instead of image-text pairs, we have text-text pairs, where one text is a paragraph (similar to the image) and the other text is similar to the caption. The model is trained in a multi-task setting. The following picture shows the training objectives for each task. All tasks receive two text segments as input and in addition, the question answering and translation tasks have almost the same objective as CLIP, which is to match one text block to another text block. \n",
    "\n",
    "<img src=\"Pics/use-model.png\" width=500 />\n",
    "(img src: https://ai.googleblog.com/2019/07/multilingual-universal-sentence-encoder.html)\n",
    "\n",
    "Recalculate the text embeddings for all news articles with the new model. Then perform the same experiments as in part 5 task 3 and task 4. It should be possible to use the same method `show_news_for_keywords(keywords, topk=5)` as in the previous experiment.\n",
    "\n",
    "Interpret the accuracy of the zero-shot text classification experiment compared to the experiment before? \n",
    "How good is the news article retrieval system for the same keywords as in part 5 task 4?"
   ]
  },
  {
   "cell_type": "code",
   "execution_count": null,
   "metadata": {},
   "outputs": [],
   "source": [
    "model = SentenceTransformer('distiluse-base-multilingual-cased-v1')"
   ]
  },
  {
   "cell_type": "code",
   "execution_count": null,
   "metadata": {},
   "outputs": [],
   "source": []
  },
  {
   "cell_type": "markdown",
   "metadata": {},
   "source": [
    "# Further ideas\n",
    "\n",
    "#### This is not part of the official notebook!!! \n",
    "\n",
    "This was part of the old notebook, where LSTM and CNN models were trained on top of the word2vec-embeddings for text classification and can be used for further experiments/ideas. "
   ]
  },
  {
   "cell_type": "markdown",
   "metadata": {},
   "source": [
    "## Tasks on Text Classification\n",
    "\n",
    "In this section a CNN document classifier shall be defined, trained and evaluated with Keras. For this the basics of Keras, as described e.g. in this [Keras Tutorial](https://keras.io/about/), must be known. \n",
    "\n",
    "The classifier shall be able to distinguish RSS-feed news with technical content from general RSS-feed news. Training and evaluation data is available from the folder `./Data/GERMAN/`.  "
   ]
  },
  {
   "cell_type": "code",
   "execution_count": 2,
   "metadata": {},
   "outputs": [
    {
     "name": "stderr",
     "output_type": "stream",
     "text": [
      "2023-04-24 16:17:17.112412: I tensorflow/tsl/cuda/cudart_stub.cc:28] Could not find cuda drivers on your machine, GPU will not be used.\n",
      "2023-04-24 16:17:17.685486: I tensorflow/tsl/cuda/cudart_stub.cc:28] Could not find cuda drivers on your machine, GPU will not be used.\n",
      "2023-04-24 16:17:17.687403: I tensorflow/core/platform/cpu_feature_guard.cc:182] This TensorFlow binary is optimized to use available CPU instructions in performance-critical operations.\n",
      "To enable the following instructions: AVX2 FMA, in other operations, rebuild TensorFlow with the appropriate compiler flags.\n",
      "2023-04-24 16:17:19.708968: W tensorflow/compiler/tf2tensorrt/utils/py_utils.cc:38] TF-TRT Warning: Could not find TensorRT\n"
     ]
    },
    {
     "name": "stdout",
     "output_type": "stream",
     "text": [
      "Tensorflow version: 2.12.0 | Keras version: 2.12.0\n"
     ]
    }
   ],
   "source": [
    "# Import required libraries\n",
    "import pandas as pd\n",
    "import numpy as np \n",
    "import sklearn\n",
    "import os\n",
    "import sys\n",
    "import tensorflow as tf\n",
    "from tensorflow import keras\n",
    "from tensorflow.keras.datasets import mnist\n",
    "\n",
    "# Import necessary modules\n",
    "from sklearn.model_selection import train_test_split\n",
    "from sklearn.metrics import mean_squared_error\n",
    "from math import sqrt\n",
    "\n",
    "# Keras specific\n",
    "import keras\n",
    "from keras.models import Sequential\n",
    "from keras.layers import Dense\n",
    "from keras.utils import to_categorical\n",
    "\n",
    "print(f\"Tensorflow version: {tf.__version__} | Keras version: {keras.__version__}\")"
   ]
  },
  {
   "cell_type": "code",
   "execution_count": 6,
   "metadata": {},
   "outputs": [],
   "source": [
    "# Reading a test file\n",
    "#df = pd.read_csv('Data/GERMAN/TECH/RSS/FeedText/computerbild-2017-09-29/12-13.txt')\n",
    "#print(df.shape)\n",
    "#df.describe()"
   ]
  },
  {
   "cell_type": "markdown",
   "metadata": {},
   "source": [
    "### Access locally stored RSS-feed news of both categories \n",
    "News crawled from RSS feeds of category `Tech` and `General` are stored in distinct directories. In the following code-cell the paths to both directories are configured. "
   ]
  },
  {
   "cell_type": "code",
   "execution_count": 7,
   "metadata": {
    "ExecuteTime": {
     "end_time": "2018-02-28T15:30:19.092680Z",
     "start_time": "2018-02-28T15:30:19.088067Z"
    }
   },
   "outputs": [],
   "source": [
    "techpath=\"./Data/GERMAN/TECH/RSS/FeedText\"\n",
    "generalpath=\"./Data/GERMAN/GENERAL/RSS/FeedText\"\n",
    "catpaths=[techpath,generalpath]"
   ]
  },
  {
   "cell_type": "markdown",
   "metadata": {},
   "source": [
    "The specified directory `techpath` must contain a list of directories. The name of each of these directories is the name of the feed, from which the news are crawled attached by the date of crawling. For example one subdirectory may be `golem-2017-11-07`. Each of this feed-and-date-specific subdirectories contains one or more `.txt`-files. The name of each of these `.txt`-files is of format `hh-mm.txt`, i.e. it contains the daytime of crawling. If one feed is crawled multiple times per day, the feed-and-date-specific subdirectories will contain more than one `.txt`-files, each identified by the time of crawling. Below, the first lines of a sample `.txt`-file, `15-15.txt` from directory `golem-2017-11-07` are shown. Each paragraph of the file is a single news item from the *golem RSS feed*, crawled at 2017-11-07, 15.51h.\n",
    "\n",
    "![Screenshot of feedfile](./Pics/feedfile.png)\n",
    "\n"
   ]
  },
  {
   "cell_type": "markdown",
   "metadata": {},
   "source": [
    "In the following code-cell all news from all files are imported. All news from subdirectories of `techpath` are assigned to the class `Tech` (label 0) and all news from subdirectories of `generalpath` are assigned to class `GENERAL` (label 1). Each news-item is represented as a list of words, contained in the item. All item-specific word-lists are assigned to the list `texts` and the corresponding class-indices are assigned to the list `labels`. Before news-item specific word lists are appended to the `texts`-list it is checked, if they are not yet contained in this list.  "
   ]
  },
  {
   "cell_type": "code",
   "execution_count": 9,
   "metadata": {
    "ExecuteTime": {
     "end_time": "2018-02-28T15:30:19.366956Z",
     "start_time": "2018-02-28T15:30:19.097007Z"
    }
   },
   "outputs": [
    {
     "name": "stdout",
     "output_type": "stream",
     "text": [
      "Processing text dataset\n",
      "Found 3315 texts.\n"
     ]
    }
   ],
   "source": [
    "# second, prepare text samples and their labels\n",
    "print('Processing text dataset')\n",
    "texts = []  # list of text samples\n",
    "labels_index = {}  # dictionary mapping label name to numeric id\n",
    "labels = []  # list of label ids\n",
    "for catlabel,categorypath in enumerate(catpaths):\n",
    "    for name in sorted(os.listdir(categorypath)):\n",
    "        feedpath = os.path.join(categorypath, name)\n",
    "        if os.path.isdir(feedpath):\n",
    "            #print(name)\n",
    "            for fname in sorted(os.listdir(feedpath)):\n",
    "                fpath = os.path.join(feedpath, fname)\n",
    "                if sys.version_info < (3,):\n",
    "                    f = open(fpath)\n",
    "                else:\n",
    "                    f = open(fpath, encoding='utf-8')\n",
    "                t = f.read()\n",
    "                news=t.split('\\n \\n')\n",
    "                for entry in news:\n",
    "                    if (len(entry)>50) and (entry not in texts): #remove duplicates\n",
    "                        #if entry not in texts:\n",
    "                        texts.append(entry)\n",
    "                        labels.append(catlabel)\n",
    "                f.close()\n",
    "print('Found %s texts.' % len(texts))"
   ]
  },
  {
   "cell_type": "code",
   "execution_count": 10,
   "metadata": {
    "ExecuteTime": {
     "end_time": "2018-02-28T15:30:19.389732Z",
     "start_time": "2018-02-28T15:30:19.374554Z"
    }
   },
   "outputs": [
    {
     "name": "stdout",
     "output_type": "stream",
     "text": [
      "Gestaltungstipps: T-Shirts bedrucken\n",
      "Bedruckte T-Shirts sind ein All-Time-Favorite – egal, ob witzige Comic-Motive oder schlichte Formen. Tipps und Ideen rund um die Gestaltung.\n",
      "--------------------\n",
      "Software-Charts: Die 50 Top-Downloads des Monats\n",
      "CCleaner ist gehackt, die sichere neue Fassung laden Sie hier – samt Vollversionen: das Ashampoo Music Studio und PowerDirector.\n",
      "--------------------\n",
      "Quereinsteiger-Jobs: So gelingt der Wechsel\n",
      "Der Quereinstieg in eine neue Branche ist heute nicht mehr ungewöhnlich. Fragen und Tipps, die beim beruflichen Neustart helfen können.\n"
     ]
    }
   ],
   "source": [
    "print(texts[0])\n",
    "print(\"-\"*20)\n",
    "print(texts[1])\n",
    "print(\"-\"*20)\n",
    "print(texts[2])"
   ]
  },
  {
   "cell_type": "markdown",
   "metadata": {},
   "source": [
    "### Convert texts to sequence of integers\n",
    "\n",
    "#### Task 10: Transform each text into a sequence of integers\n",
    "Apply the [Keras Tokenizer class](https://www.tensorflow.org/api_docs/python/tf/keras/preprocessing/text/Tokenizer) in order to uniquely map each word to an integer-index and to represent each text (news-item) as a sequence of integers. The maximum number of words regarded in the Tokenizer shall be `MAX_NB_WORDS=10000`. After fitting the `Tokenizer`-object with the available texts (`fit_on_texts()`), it's attribute `tokenizer.word_index` maps each word to an integer-index. "
   ]
  },
  {
   "cell_type": "code",
   "execution_count": 35,
   "metadata": {
    "ExecuteTime": {
     "end_time": "2018-02-28T15:30:19.893962Z",
     "start_time": "2018-02-28T15:30:19.393772Z"
    }
   },
   "outputs": [
    {
     "name": "stdout",
     "output_type": "stream",
     "text": [
      "There are 20652 mappings of words to an integer index.\n",
      "The word 'und' can be found on index 3.\n",
      "3\n"
     ]
    }
   ],
   "source": [
    "word_tokenizer = tf.keras.preprocessing.text.Tokenizer(num_words=10000)\n",
    "\n",
    "word_tokenizer.fit_on_texts(texts)\n",
    "indicies = word_tokenizer.word_index\n",
    "\n",
    "# Examples\n",
    "print(f\"There are {len(indicies)} mappings of words to an integer index.\")\n",
    "# first10values = {k: indicies[k] for k in sorted(indicies.keys())[:20]}\n",
    "print(f\"The word 'und' can be found on index {indicies['und']}.\")\n",
    "print(indicies.get('und'))\n",
    "\n",
    "# This is wrong, this should list the key-value pairs. What did I do wrong?\n",
    "for key, value in indicies.items():\n",
    "    if value == 'und':\n",
    "        print(key)   \n",
    "\n",
    "#print(indicies)\n",
    "\n",
    "# Checking the created tokens\n",
    "# for i, token in enumerate(indicies[10][:10]):\n",
    "    # print(token, \"=\", tokenizer.decode([token]))"
   ]
  },
  {
   "cell_type": "markdown",
   "metadata": {},
   "source": [
    "#### Task 11: Visualize distribution of document lengths\n",
    "Visualize the distribution of document lengths in a histogram."
   ]
  },
  {
   "cell_type": "code",
   "execution_count": 13,
   "metadata": {},
   "outputs": [
    {
     "data": {
      "image/png": "[encoded data removed]",
      "text/plain": [
       "<Figure size 640x480 with 1 Axes>"
      ]
     },
     "metadata": {},
     "output_type": "display_data"
    }
   ],
   "source": [
    "from matplotlib import pyplot as plt\n",
    "\n",
    "lengths = [len(text.replace(\"-\", \"\").split(\" \")) for text in texts]\n",
    "plt.hist(lengths, bins=20, color=\"purple\")\n",
    "plt.title(\"Word counts of texts\")\n",
    "plt.xlabel(\"Word count\")\n",
    "plt.show()"
   ]
  },
  {
   "cell_type": "markdown",
   "metadata": {},
   "source": [
    "#### Task 12: Pad sequences to unique length\n",
    "Next the [Keras function pad_sequences](https://www.tensorflow.org/api_docs/python/tf/keras/preprocessing/sequence/pad_sequences) shall be applied to represent the set of all sequences as a numpy-array. The number of rows in this array is the number of sequences, the number of columns is the fixed sequence length `maxlen`. Choose an appropriate value for the fixed sequence length. \n",
    "\n",
    "Moreover, the labels-list shall be one-hot-encoded into a numpy-array `labels` with two columns. In this array the entry in row i, column j is 1, if the i.th text belongs to the class with label j, otherwise this entry is 0."
   ]
  },
  {
   "cell_type": "code",
   "execution_count": 42,
   "metadata": {},
   "outputs": [
    {
     "data": {
      "text/plain": [
       "3315"
      ]
     },
     "execution_count": 42,
     "metadata": {},
     "output_type": "execute_result"
    }
   ],
   "source": [
    "len(labels)"
   ]
  },
  {
   "cell_type": "code",
   "execution_count": 43,
   "metadata": {
    "ExecuteTime": {
     "end_time": "2018-02-28T15:30:20.236503Z",
     "start_time": "2018-02-28T15:30:20.180082Z"
    }
   },
   "outputs": [
    {
     "data": {
      "text/plain": [
       "array([[   0,    0,    0, ...,   43,    1, 8919],\n",
       "       [   0,    0,    0, ..., 2720,    3, 8925],\n",
       "       [   0,    0,    0, ..., 4137,  601,   76],\n",
       "       ...,\n",
       "       [   0,    0,    0, ...,    7,  310, 2507],\n",
       "       [   0,    0,    0, ...,   53,   88,   52],\n",
       "       [   0,    0,    0, ..., 1513,   12,  138]], dtype=int32)"
      ]
     },
     "execution_count": 43,
     "metadata": {},
     "output_type": "execute_result"
    }
   ],
   "source": [
    "#tf.keras.utils.pad_sequences(indicies, maxlen=1000)\n",
    "\n",
    "sequences = word_tokenizer.texts_to_sequences(texts)\n",
    "tf.keras.utils.pad_sequences(sequences, maxlen=60)\n",
    "\n",
    "# ToDo: Zweiter Satz verstehen"
   ]
  },
  {
   "cell_type": "markdown",
   "metadata": {},
   "source": [
    "<font color=\"blue\"><b>Comment:</b></font> For the value of fixed sequence length a maxlength of 60 was chosen, as around 90% of texts ha size that long. Because most of these texts have"
   ]
  },
  {
   "cell_type": "markdown",
   "metadata": {},
   "source": [
    "### Split labeled texts in training- and validation set\n",
    "\n",
    "#### Task 13: Create training- and validation-partition\n",
    "The numpy-array of padded integer-sequences and the corresponding labels (as generated in the code cell above) shall be randomly shuffled and then split into a training- and a validation set. 80% of the labeled data is applied for training, the remaining 20% for validation. "
   ]
  },
  {
   "cell_type": "code",
   "execution_count": null,
   "metadata": {
    "ExecuteTime": {
     "end_time": "2018-02-28T15:30:28.636659Z",
     "start_time": "2018-02-28T15:30:28.625877Z"
    }
   },
   "outputs": [],
   "source": []
  },
  {
   "cell_type": "markdown",
   "metadata": {},
   "source": [
    "### Load  and prepare Word-Embedding\n",
    "\n",
    "#### Task 14: Load Word Embedding\n",
    "Load the Word Embedding, which has been trained and saved in task 3."
   ]
  },
  {
   "cell_type": "code",
   "execution_count": null,
   "metadata": {
    "ExecuteTime": {
     "end_time": "2018-02-28T15:31:13.127470Z",
     "start_time": "2018-02-28T15:30:58.634797Z"
    }
   },
   "outputs": [],
   "source": []
  },
  {
   "cell_type": "markdown",
   "metadata": {},
   "source": [
    "#### Task 15: Prepare `embeddings_index`\n",
    "Next a Python dictionary `embeddings_index`, which maps words to their vector-representation must be generated."
   ]
  },
  {
   "cell_type": "code",
   "execution_count": null,
   "metadata": {
    "ExecuteTime": {
     "end_time": "2018-02-28T15:42:20.512927Z",
     "start_time": "2018-02-28T15:42:20.252855Z"
    }
   },
   "outputs": [],
   "source": []
  },
  {
   "cell_type": "markdown",
   "metadata": {},
   "source": [
    "#### Task 16:  Prepare `embeddings_matrix`\n",
    "\n",
    "The variable `word_index` has been allocated in **Task 10**. It maps each word of the labeled documents (news) to a unique index. Now `word_index` as calculated from the labeled input documents for the classifier is combined with the `embedding_index`, which maps each word of the word-embedding (German wikipedia dump in this case) to it's vector representation. The result is the *numpy-array* `embedding_matrix`, which contains in the i.th row the vector representation of the word with index i in the `word_index`. Applying this `embedding_matrix` allows the *Keras*-module `Embedding` to map a sequence of word-indices, which represents a single news-item, to a sequence of word-vectors. \n",
    "\n",
    "![wordMappings](./Pics/wordMappings.png)\n",
    "\n"
   ]
  },
  {
   "cell_type": "code",
   "execution_count": null,
   "metadata": {
    "ExecuteTime": {
     "end_time": "2018-02-28T15:42:22.912060Z",
     "start_time": "2018-02-28T15:42:22.859162Z"
    }
   },
   "outputs": [],
   "source": []
  },
  {
   "cell_type": "markdown",
   "metadata": {},
   "source": [
    "### Define CNN architecture, train and evaluate\n",
    "In Keras network architectures can either be defined as [Sequential models](https://keras.io/guides/sequential_model/) or by the [Functional API approach](https://keras.io/guides/functional_api/). For the implementations in this lecture you are free to choose any of both. \n",
    "\n",
    "#### Task 17: Define CNN architecture\n",
    "The `embedding_matrix`, as generated in the previous task shall now be assigned to the `weights`-argument of a [Keras Embedding Layer](https://keras.io/api/layers/core_layers/embedding/). The Embedding Layer constitutes the input layer of the CNN. \n",
    "\n",
    "Following the input layer configure one or more cascades of `Conv1D`-layers, followed by `MaxPooling1D`-layers. Apply `relu`-activation in the conv-layers. \n",
    "\n",
    "\n",
    "After the last convolutional-layer a `GlobalMaxPooling1D`-layer shall be applied, followed by a dense layer with softmax-activation (for the binary classification actually a sigmoid-activation at the output would be enough).\n",
    "\n",
    "Display a summary of this architecture by calling the `summary()`-function."
   ]
  },
  {
   "cell_type": "code",
   "execution_count": null,
   "metadata": {
    "ExecuteTime": {
     "end_time": "2018-02-28T15:42:28.130765Z",
     "start_time": "2018-02-28T15:42:27.256479Z"
    }
   },
   "outputs": [],
   "source": []
  },
  {
   "cell_type": "markdown",
   "metadata": {},
   "source": [
    "#### Task 18: Define Training\n",
    "Hyperparameters for training a Keras model are defined by applying the `compile()`-method. Use `binary_crossentropy` as loss-function, `rmsprop` as learning-algorithm (optimizer) and `accuracy` as metric. "
   ]
  },
  {
   "cell_type": "code",
   "execution_count": null,
   "metadata": {
    "ExecuteTime": {
     "end_time": "2018-02-28T15:49:12.003106Z",
     "start_time": "2018-02-28T15:49:11.940070Z"
    }
   },
   "outputs": [],
   "source": []
  },
  {
   "cell_type": "markdown",
   "metadata": {},
   "source": [
    "#### Task 19:  Training and Validation\n",
    "Apply the model's `fit()`-method for training. Assign training- and validation- data as generated in Task 13. Choose an appropriate `batch_size` and an appropriate number of `epochs`. \n",
    "\n",
    "After training is finished, plot the accuracy on the training- and validation-data over the epochs."
   ]
  },
  {
   "cell_type": "code",
   "execution_count": null,
   "metadata": {},
   "outputs": [],
   "source": []
  },
  {
   "cell_type": "markdown",
   "metadata": {},
   "source": [
    "### Optimization\n",
    "#### Task 20: Optimize CNN Architecture\n",
    "Find a good CNN configuration by varying hyperparameters, such as number of layers, number of filters, filtersizes, etc. \n"
   ]
  },
  {
   "cell_type": "code",
   "execution_count": null,
   "metadata": {},
   "outputs": [],
   "source": []
  },
  {
   "cell_type": "markdown",
   "metadata": {},
   "source": [
    "## Further ideas\n",
    "If no embedding_matrix is assigned to the `weights`-argument of the `EmbeddingLayer` and the `trainable`-argument is set to be `True`, then the weights of the EmbeddingLayer are learned during training of the entire network. I.e. in this case no pre-trained word-embedding is required. It would be nice to compare this approach with the approach where pre-trained weights are applied. \n",
    "\n",
    "As an alternative to the CNN a LSTM-architecture, e.g. a single LSTM-Layer, followed by Dropout and a Dense Layer at the output, can be applied for classification. The input-embedding layer would be the same as for the CNN. "
   ]
  },
  {
   "cell_type": "code",
   "execution_count": null,
   "metadata": {},
   "outputs": [],
   "source": []
  }
 ],
 "metadata": {
  "anaconda-cloud": {},
  "kernelspec": {
   "display_name": "python3",
   "language": "python",
   "name": "python3"
  },
  "language_info": {
   "codemirror_mode": {
    "name": "ipython",
    "version": 3
   },
   "file_extension": ".py",
   "mimetype": "text/x-python",
   "name": "python",
   "nbconvert_exporter": "python",
   "pygments_lexer": "ipython3",
   "version": "3.9.16"
  },
  "nav_menu": {},
  "toc": {
   "nav_menu": {},
   "number_sections": true,
   "sideBar": true,
   "skip_h1_title": false,
   "title_cell": "Table of Contents",
   "title_sidebar": "Contents",
   "toc_cell": false,
   "toc_position": {},
   "toc_section_display": "block",
   "toc_window_display": false
  },
  "toc_position": {
   "height": "899px",
   "left": "0px",
   "right": "1789.23px",
   "top": "153.883px",
   "width": "357px"
  }
 },
 "nbformat": 4,
 "nbformat_minor": 4
}
