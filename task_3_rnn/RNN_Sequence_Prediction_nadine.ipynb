{
 "cells": [
  {
   "cell_type": "markdown",
   "metadata": {},
   "source": [
    "# RNN Sequence Prediction for Music Generation\n",
    "\n",
    "Goal of this lecture is to train a network that is able to compose new music using a recurrent neural network (RNN) for sequence prediction."
   ]
  },
  {
   "cell_type": "markdown",
   "metadata": {},
   "source": [
    "---\n",
    "### Course of Action\n",
    "\n",
    "* Please write all executable python code in ```Code```-Cells (```Cell```->```Cell Type```->```Code```) and all Text as [Markdown](http://commonmark.org/help/) in ```Markdown```-Cells\n",
    "* Describe your thinking and your decisions (where appropriate) in an extra Markdown Cell or via Python comments\n",
    "* In general: discuss all your results and comment on them (are they good/bad/unexpected, could they be improved, how?, etc.). Furthermore, visualise your data (input and output).\n",
    "* Write a short general conclusion at the end of the notebook\n",
    "* Further experiments are encouraged. However, don't forget to comment on your reasoning.\n",
    "* Use a scientific approach for all experiments (i.e. develop a hypothesis or concrete question, make observations, evaluate results)\n",
    "\n",
    "### Submission\n",
    "\n",
    "Upload the complete Notebook to [Ilias](https://learn.mi.hdm-stuttgart.de/) One Notebook per Group is enough. Edit the teammember table below. One Notebook per Group is enough. Edit the teammember table below.\n",
    "\n",
    "**Important**: Also attach a HTML version of your notebook (```File```->```Download as```->```HTML```) in addition to the ```.ipynb```-File."
   ]
  },
  {
   "cell_type": "markdown",
   "metadata": {},
   "source": [
    "| Teammember |                    |\n",
    "|------------|--------------------|\n",
    "| 1.         | Nadine Weber    |\n",
    "| 2.         | Patrick Singer      |\n",
    "| 3.         | Milos Aleksic         |\n",
    "---"
   ]
  },
  {
   "cell_type": "markdown",
   "metadata": {},
   "source": [
    "## Prerequisities\n",
    "1. Make sure you have a general understanding how RNNs are able to take time-series input and predict the future. A general overview of RNNs and different architectures can be found in the Machine Learning lecture [here](https://gitlab.mi.hdm-stuttgart.de/maucher/ML/blob/master/nb/RecurrentNeuralNetworks.ipynb). A practical example how future samples can be predicted can be found [here](https://gitlab.mi.hdm-stuttgart.de/maucher/ML/blob/master/nb/LSTMtemperature.ipynb). \n",
    "\n",
    "2. Make sure to have the following python libraries installed (e.g. via ```pip install```)\n",
    "    * tensorflow\n",
    "    * keras (or use the [```tensorflow.keras```](https://www.tensorflow.org/versions/r1.15/api_docs/python/tf/keras) module\n",
    "    * [music21](http://web.mit.edu/music21/)\n",
    "    * scipy"
   ]
  },
  {
   "cell_type": "markdown",
   "metadata": {},
   "source": [
    "<font color=\"blue\">\n",
    "Comment: Getting to know Music21 and its basic functionality.</font>"
   ]
  },
  {
   "cell_type": "code",
   "execution_count": 1,
   "metadata": {},
   "outputs": [
    {
     "name": "stdout",
     "output_type": "stream",
     "text": [
      "The note F is about 698 Hz and its pitch is F5.\n"
     ]
    }
   ],
   "source": [
    "#!pip install music21\n",
    "\n",
    "from music21 import *\n",
    "\n",
    "#note.Rest # Note object\n",
    "#dir(note) # Shows all available stuff\n",
    "f = note.Note(\"F5\")  # C4 is middle C\n",
    "name_f = f.name  # Actual name of the note\n",
    "octave_f = f.octave # Register\n",
    "pitch_f = f.pitch\n",
    "frequency_f = f.pitch.frequency\n",
    "f.duration.type='half'\n",
    "#f.show() Does not work, see cells below.\n",
    "\n",
    "print(f\"The note {name_f} is about {'%.0f'%frequency_f} Hz and its pitch is {pitch_f}.\")\n"
   ]
  },
  {
   "cell_type": "markdown",
   "metadata": {},
   "source": [
    "## Understanding the Input\n",
    "\n",
    "To be able to compose new music (that ideally does not sound like random notes), the network needs to *listen* to music. Intuitivley the network will try to create music that sounds similar (tone color, rythm, etc.) to the music it listened to during the training.\n",
    "\n",
    "We use midi-files due to their wide availability to generate the input to our network. A good ressource of free, classical midi-files can be found on the [Classical Piano Midi Page](http://www.piano-midi.de), however you can use any other ressource of midi-files (However, it works best with files with a single *track* (a single instrument).\n",
    "\n",
    "A midi-file is a simple series of commands (e.g. ```note_on``` or ```note_off```) with a given time offset. To parse the midi-files we use the [music21](http://web.mit.edu/music21/) library. This library offers a wide range of musical analysis functions. We, for now, use it to parse midi files and to normalize the input.\n",
    "\n",
    "#### Tasks:\n",
    "* Download a set of midi-files for training (e.g. all compositions of a single artist).\n",
    "* Load one of the files using music21\n",
    "* Print the parsed file-structure\n",
    "* Show an inline player for the file in your browser\n",
    "\n",
    "#### Hints:\n",
    "* Use a [```music21.converter```](http://web.mit.edu/music21/doc/moduleReference/moduleConverter.html#module-music21.converter) to read the file\n",
    "* Use the [```Music21Object.show()```](http://web.mit.edu/music21/doc/moduleReference/moduleBase.html#music21.base.Music21Object.show) method to render the file in different formats."
   ]
  },
  {
   "cell_type": "markdown",
   "metadata": {},
   "source": [
    "<font color=\"blue\">\n",
    "For better differentiation, all added comments from us will be marked in blue color.</font>"
   ]
  },
  {
   "cell_type": "code",
   "execution_count": 3,
   "metadata": {
    "ExecuteTime": {
     "end_time": "2018-05-30T06:45:49.914556Z",
     "start_time": "2018-05-30T06:45:47.178308Z"
    }
   },
   "outputs": [
    {
     "name": "stdout",
     "output_type": "stream",
     "text": [
      "<music21.stream.Score 0x7f51089d6e80>\n"
     ]
    }
   ],
   "source": [
    "# Load midi file with music21\n",
    "file = converter.parse(\"./music_nadine/chpn-p1.mid\")\n",
    "print(file)\n",
    "\n",
    "# Print the parsed file-structure in different formats\n",
    "#file.show(\"text\") # Output is very long\n",
    "#file.show('braille') # Braille version"
   ]
  },
  {
   "cell_type": "code",
   "execution_count": 8,
   "metadata": {},
   "outputs": [
    {
     "data": {
      "text/html": [
       "\n",
       "                <div id=\"midiPlayerDiv75687\"></div>\n",
       "                <link rel=\"stylesheet\" href=\"//cuthbertLab.github.io/music21j/css/m21.css\"\n",
       "                    type=\"text/css\" />\n",
       "                \n",
       "                <script>\n",
       "                require.config({\n",
       "                    paths: {'music21': '//cuthbertLab.github.io/music21j/src/music21'}\n",
       "                });\n",
       "                require(['music21'], function() {\n",
       "                               mp = new music21.miditools.MidiPlayer();\n",
       "                               mp.addPlayer(\"#midiPlayerDiv75687\");\n",
       "                               mp.base64Load(\"data:audio/midi;base64,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\");\n",
       "                        });\n",
       "                </script>"
      ],
      "text/plain": [
       "<IPython.core.display.HTML object>"
      ]
     },
     "metadata": {},
     "output_type": "display_data"
    },
    {
     "name": "stdout",
     "output_type": "stream",
     "text": [
      "As you can see, you see nothing.\n",
      "Music21 has some issues with the midi file player. \n",
      "Issue is open on GitHub but not resolved. See https://github.com/cuthbertLab/music21/issues/330\n"
     ]
    }
   ],
   "source": [
    "# Show inline player for the file in the browser\n",
    "file.show('midi')\n",
    "print(\"As you can see, you see nothing.\\nMusic21 has some issues with the midi file player. \\nIssue is open on GitHub but not resolved. See https://github.com/cuthbertLab/music21/issues/330\")\n"
   ]
  },
  {
   "cell_type": "markdown",
   "metadata": {},
   "source": [
    "As you can see, music21 automatically detects chords when multiple notes are played at the same time. This is helpful as this allows to represent multiple notes as a single symbol. Thus, the model can be trained on one-hot encoded data and still be able to generate polyphonic music.\n",
    "\n",
    "The next step is to encode the songs into a list of tones. For simple music generation, we ignore the beat and tempo of the music and treat the songs as a series of equidistant notes or chords. \n",
    "\n",
    "#### Tasks:\n",
    "* parse all midi files and put all notes and chords into a single list\n",
    "\n",
    "#### Hints:\n",
    "* Midi files may contain multiple *parts* (tracks, instruments, etc.) or are *flat* (notes and chords are not nested in parts). Use [```music21.stream.Stream.recurse()```](https://web.mit.edu/music21/doc/moduleReference/moduleStreamBase.html#music21.stream.base.Stream.recurse) to walk over all files and flatten the structure.\n",
    "* For [```music21.note.Note```](http://web.mit.edu/music21/doc/moduleReference/moduleNote.html#note) objects, add the ```pitch``` to the tones list. For [```music21.chord.Chord```](http://web.mit.edu/music21/doc/moduleReference/moduleChord.html#chord) objects, join all notes in the chord using a seperator (e.g. ```.```). It is important to normalize the chord to its [```normalOrder```](http://web.mit.edu/music21/doc/moduleReference/moduleChord.html#music21.chord.Chord.normalOrder) to reduce the number of unique elements drastically without altering the training data too significantly. If the unnormalized chords are used, the traiing set is full of classes that only appear very rarely."
   ]
  },
  {
   "cell_type": "code",
   "execution_count": null,
   "metadata": {
    "ExecuteTime": {
     "end_time": "2018-05-30T06:45:57.089445Z",
     "start_time": "2018-05-30T06:45:49.918371Z"
    }
   },
   "outputs": [],
   "source": [
    "# ToDo: Parse all midi files\n",
    "\n",
    "\n",
    "# ToDo: Put all notes and chors into a single list (ignore beat and tempo)\n",
    "# - recurse for flattening\n",
    "# - add pitch to the tones list\n",
    "\n"
   ]
  },
  {
   "cell_type": "markdown",
   "metadata": {},
   "source": [
    "\n",
    "\n",
    "## Create training data\n",
    "\n",
    "We train the network to predict the next note or chord after it has seen a sequence of previous tones. Therefore, each input element is a sequence of tones and the label is the next note or chord followed by this sequence.\n",
    "\n",
    "Until now, each tone is represented by a string. For the output, this representation needs to be converted to one-hot encoded vectors to be able to train the model using categorical cross-entropy. The input needs to be mapped to floats in $[0,1|$ that are used as input to the network.\n",
    "\n",
    "<img alt=\"preprocess\" src=\"data:image/svg+xml,%3C%3Fxml%20version%3D%221.0%22%20encoding%3D%22UTF-8%22%20standalone%3D%22no%22%3F%3E%0D%0A%3C%21DOCTYPE%20svg%20PUBLIC%20%22-%2F%2FW3C%2F%2FDTD%20SVG%201.1%2F%2FEN%22%20%22http%3A%2F%2Fwww.w3.org%2FGraphics%2FSVG%2F1.1%2FDTD%2Fsvg11.dtd%22%3E%0D%0A%3Csvg%20width%3D%22100%25%22%20height%3D%22100%25%22%20viewBox%3D%220%200%202953%20591%22%20version%3D%221.1%22%20xmlns%3D%22http%3A%2F%2Fwww.w3.org%2F2000%2Fsvg%22%20xmlns%3Axlink%3D%22http%3A%2F%2Fwww.w3.org%2F1999%2Fxlink%22%20xml%3Aspace%3D%22preserve%22%20xmlns%3Aserif%3D%22http%3A%2F%2Fwww.serif.com%2F%22%20style%3D%22fill-rule%3Aevenodd%3Bclip-rule%3Aevenodd%3Bstroke-linecap%3Around%3Bstroke-linejoin%3Around%3Bstroke-miterlimit%3A1.5%3B%22%3E%0D%0A%20%20%20%20%3Cg%20transform%3D%22matrix%281%2C0%2C0%2C1%2C985.827%2C-44%29%22%3E%0D%0A%20%20%20%20%20%20%20%20%3Crect%20x%3D%2284.35%22%20y%3D%2246.521%22%20width%3D%2282.01%22%20height%3D%2282.01%22%20style%3D%22fill%3Argb%28202%2C203%2C201%29%3Bstroke%3Ablack%3Bstroke-width%3A1px%3B%22%2F%3E%0D%0A%20%20%20%20%3C%2Fg%3E%0D%0A%20%20%20%20%3Cg%20transform%3D%22matrix%281%2C0%2C0%2C1%2C965.827%2C-22%29%22%3E%0D%0A%20%20%20%20%20%20%20%20%3Ctext%20x%3D%22115.625px%22%20y%3D%2283.587px%22%20style%3D%22font-family%3A%27ArialMT%27%2C%20%27Arial%27%2C%20sans-serif%3Bfont-size%3A50px%3B%22%3EF4%3C%2Ftext%3E%0D%0A%20%20%20%20%3C%2Fg%3E%0D%0A%20%20%20%20%3Cg%20transform%3D%22matrix%281%2C0%2C0%2C1%2C1068.83%2C-44%29%22%3E%0D%0A%20%20%20%20%20%20%20%20%3Crect%20x%3D%2284.35%22%20y%3D%2246.521%22%20width%3D%2282.01%22%20height%3D%2282.01%22%20style%3D%22fill%3Argb%28202%2C203%2C201%29%3Bstroke%3Ablack%3Bstroke-width%3A1px%3B%22%2F%3E%0D%0A%20%20%20%20%3C%2Fg%3E%0D%0A%20%20%20%20%3Cg%20transform%3D%22matrix%281%2C0%2C0%2C1%2C1045.83%2C-22%29%22%3E%0D%0A%20%20%20%20%20%20%20%20%3Ctext%20x%3D%22115.625px%22%20y%3D%2283.587px%22%20style%3D%22font-family%3A%27ArialMT%27%2C%20%27Arial%27%2C%20sans-serif%3Bfont-size%3A50px%3B%22%3ED4%3C%2Ftext%3E%0D%0A%20%20%20%20%3C%2Fg%3E%0D%0A%20%20%20%20%3Cg%20transform%3D%22matrix%281%2C0%2C0%2C1%2C1150.83%2C-44%29%22%3E%0D%0A%20%20%20%20%20%20%20%20%3Crect%20x%3D%2284.35%22%20y%3D%2246.521%22%20width%3D%2282.01%22%20height%3D%2282.01%22%20style%3D%22fill%3Argb%28202%2C203%2C201%29%3Bstroke%3Ablack%3Bstroke-width%3A1px%3B%22%2F%3E%0D%0A%20%20%20%20%3C%2Fg%3E%0D%0A%20%20%20%20%3Cg%20transform%3D%22matrix%281%2C0%2C0%2C1%2C1130.83%2C-22%29%22%3E%0D%0A%20%20%20%20%20%20%20%20%3Ctext%20x%3D%22115.625px%22%20y%3D%2283.587px%22%20style%3D%22font-family%3A%27ArialMT%27%2C%20%27Arial%27%2C%20sans-serif%3Bfont-size%3A50px%3B%22%3EF4%3C%2Ftext%3E%0D%0A%20%20%20%20%3C%2Fg%3E%0D%0A%20%20%20%20%3Cg%20transform%3D%22matrix%281%2C0%2C0%2C1%2C1232.83%2C-44%29%22%3E%0D%0A%20%20%20%20%20%20%20%20%3Crect%20x%3D%2284.35%22%20y%3D%2246.521%22%20width%3D%2282.01%22%20height%3D%2282.01%22%20style%3D%22fill%3Argb%28202%2C203%2C201%29%3Bstroke%3Ablack%3Bstroke-width%3A1px%3B%22%2F%3E%0D%0A%20%20%20%20%3C%2Fg%3E%0D%0A%20%20%20%20%3Cg%20transform%3D%22matrix%281%2C0%2C0%2C1%2C1209.83%2C-22%29%22%3E%0D%0A%20%20%20%20%20%20%20%20%3Ctext%20x%3D%22115.625px%22%20y%3D%2283.587px%22%20style%3D%22font-family%3A%27ArialMT%27%2C%20%27Arial%27%2C%20sans-serif%3Bfont-size%3A50px%3B%22%3EC4%3C%2Ftext%3E%0D%0A%20%20%20%20%3C%2Fg%3E%0D%0A%20%20%20%20%3Cg%20transform%3D%22matrix%281%2C0%2C0%2C1%2C1314.83%2C-44%29%22%3E%0D%0A%20%20%20%20%20%20%20%20%3Crect%20x%3D%2284.35%22%20y%3D%2246.521%22%20width%3D%2282.01%22%20height%3D%2282.01%22%20style%3D%22fill%3Argb%28202%2C203%2C201%29%3Bstroke%3Ablack%3Bstroke-width%3A1px%3B%22%2F%3E%0D%0A%20%20%20%20%3C%2Fg%3E%0D%0A%20%20%20%20%3Cg%20transform%3D%22matrix%281%2C0%2C0%2C1%2C1292.83%2C-22%29%22%3E%0D%0A%20%20%20%20%20%20%20%20%3Ctext%20x%3D%22115.625px%22%20y%3D%2283.587px%22%20style%3D%22font-family%3A%27ArialMT%27%2C%20%27Arial%27%2C%20sans-serif%3Bfont-size%3A50px%3B%22%3EE4%3C%2Ftext%3E%0D%0A%20%20%20%20%3C%2Fg%3E%0D%0A%20%20%20%20%3Cg%20transform%3D%22matrix%281%2C0%2C0%2C1%2C1396.83%2C-44%29%22%3E%0D%0A%20%20%20%20%20%20%20%20%3Crect%20x%3D%2284.35%22%20y%3D%2246.521%22%20width%3D%2282.01%22%20height%3D%2282.01%22%20style%3D%22fill%3Argb%28202%2C203%2C201%29%3Bstroke%3Ablack%3Bstroke-width%3A1px%3B%22%2F%3E%0D%0A%20%20%20%20%3C%2Fg%3E%0D%0A%20%20%20%20%3Cg%20transform%3D%22matrix%281%2C0%2C0%2C1%2C1374.83%2C-22%29%22%3E%0D%0A%20%20%20%20%20%20%20%20%3Ctext%20x%3D%22115.625px%22%20y%3D%2283.587px%22%20style%3D%22font-family%3A%27ArialMT%27%2C%20%27Arial%27%2C%20sans-serif%3Bfont-size%3A50px%3B%22%3EC6%3C%2Ftext%3E%0D%0A%20%20%20%20%3C%2Fg%3E%0D%0A%20%20%20%20%3Cg%20transform%3D%22matrix%281%2C0%2C0%2C1%2C1478.83%2C-44%29%22%3E%0D%0A%20%20%20%20%20%20%20%20%3Crect%20x%3D%2284.35%22%20y%3D%2246.521%22%20width%3D%2282.01%22%20height%3D%2282.01%22%20style%3D%22fill%3Argb%28202%2C203%2C201%29%3Bstroke%3Ablack%3Bstroke-width%3A1px%3B%22%2F%3E%0D%0A%20%20%20%20%3C%2Fg%3E%0D%0A%20%20%20%20%3Cg%20transform%3D%22matrix%281%2C0%2C0%2C1%2C1456.83%2C-22%29%22%3E%0D%0A%20%20%20%20%20%20%20%20%3Ctext%20x%3D%22115.625px%22%20y%3D%2283.587px%22%20style%3D%22font-family%3A%27ArialMT%27%2C%20%27Arial%27%2C%20sans-serif%3Bfont-size%3A50px%3B%22%3EB4%3C%2Ftext%3E%0D%0A%20%20%20%20%3C%2Fg%3E%0D%0A%20%20%20%20%3Cg%20transform%3D%22matrix%281%2C0%2C0%2C1%2C1560.83%2C-44%29%22%3E%0D%0A%20%20%20%20%20%20%20%20%3Crect%20x%3D%2284.35%22%20y%3D%2246.521%22%20width%3D%2282.01%22%20height%3D%2282.01%22%20style%3D%22fill%3Argb%28202%2C203%2C201%29%3Bstroke%3Ablack%3Bstroke-width%3A1px%3B%22%2F%3E%0D%0A%20%20%20%20%3C%2Fg%3E%0D%0A%20%20%20%20%3Cg%20transform%3D%22matrix%281%2C0%2C0%2C1%2C1531.83%2C-22%29%22%3E%0D%0A%20%20%20%20%20%20%20%20%3Ctext%20x%3D%22115.625px%22%20y%3D%2283.587px%22%20style%3D%22font-family%3A%27ArialMT%27%2C%20%27Arial%27%2C%20sans-serif%3Bfont-size%3A50px%3B%22%3EB-4%3C%2Ftext%3E%0D%0A%20%20%20%20%3C%2Fg%3E%0D%0A%20%20%20%20%3Cg%20transform%3D%22matrix%281%2C0%2C0%2C1%2C1232.83%2C96%29%22%3E%0D%0A%20%20%20%20%20%20%20%20%3Crect%20x%3D%2284.35%22%20y%3D%2246.521%22%20width%3D%2282.01%22%20height%3D%2282.01%22%20style%3D%22fill%3Argb%28151%2C208%2C119%29%3Bstroke%3Ablack%3Bstroke-width%3A1px%3B%22%2F%3E%0D%0A%20%20%20%20%3C%2Fg%3E%0D%0A%20%20%20%20%3Cg%20transform%3D%22matrix%281%2C0%2C0%2C1%2C1209.83%2C118%29%22%3E%0D%0A%20%20%20%20%20%20%20%20%3Ctext%20x%3D%22115.625px%22%20y%3D%2283.587px%22%20style%3D%22font-family%3A%27ArialMT%27%2C%20%27Arial%27%2C%20sans-serif%3Bfont-size%3A50px%3B%22%3EC4%3C%2Ftext%3E%0D%0A%20%20%20%20%3C%2Fg%3E%0D%0A%20%20%20%20%3Cg%20transform%3D%22matrix%281%2C0%2C0%2C1%2C1314.83%2C96%29%22%3E%0D%0A%20%20%20%20%20%20%20%20%3Crect%20x%3D%2284.35%22%20y%3D%2246.521%22%20width%3D%2282.01%22%20height%3D%2282.01%22%20style%3D%22fill%3Argb%28151%2C208%2C119%29%3Bstroke%3Ablack%3Bstroke-width%3A1px%3B%22%2F%3E%0D%0A%20%20%20%20%3C%2Fg%3E%0D%0A%20%20%20%20%3Cg%20transform%3D%22matrix%281%2C0%2C0%2C1%2C1292.83%2C118%29%22%3E%0D%0A%20%20%20%20%20%20%20%20%3Ctext%20x%3D%22115.625px%22%20y%3D%2283.587px%22%20style%3D%22font-family%3A%27ArialMT%27%2C%20%27Arial%27%2C%20sans-serif%3Bfont-size%3A50px%3B%22%3EE4%3C%2Ftext%3E%0D%0A%20%20%20%20%3C%2Fg%3E%0D%0A%20%20%20%20%3Cg%20transform%3D%22matrix%281%2C0%2C0%2C1%2C1396.83%2C96%29%22%3E%0D%0A%20%20%20%20%20%20%20%20%3Crect%20x%3D%2284.35%22%20y%3D%2246.521%22%20width%3D%2282.01%22%20height%3D%2282.01%22%20style%3D%22fill%3Argb%28151%2C208%2C119%29%3Bstroke%3Ablack%3Bstroke-width%3A1px%3B%22%2F%3E%0D%0A%20%20%20%20%3C%2Fg%3E%0D%0A%20%20%20%20%3Cg%20transform%3D%22matrix%281%2C0%2C0%2C1%2C1374.83%2C118%29%22%3E%0D%0A%20%20%20%20%20%20%20%20%3Ctext%20x%3D%22115.625px%22%20y%3D%2283.587px%22%20style%3D%22font-family%3A%27ArialMT%27%2C%20%27Arial%27%2C%20sans-serif%3Bfont-size%3A50px%3B%22%3EC6%3C%2Ftext%3E%0D%0A%20%20%20%20%3C%2Fg%3E%0D%0A%20%20%20%20%3Cg%20transform%3D%22matrix%281%2C0%2C0%2C1%2C1478.83%2C96%29%22%3E%0D%0A%20%20%20%20%20%20%20%20%3Crect%20x%3D%2284.35%22%20y%3D%2246.521%22%20width%3D%2282.01%22%20height%3D%2282.01%22%20style%3D%22fill%3Argb%28151%2C208%2C119%29%3Bstroke%3Ablack%3Bstroke-width%3A1px%3B%22%2F%3E%0D%0A%20%20%20%20%3C%2Fg%3E%0D%0A%20%20%20%20%3Cg%20transform%3D%22matrix%281%2C0%2C0%2C1%2C1456.83%2C118%29%22%3E%0D%0A%20%20%20%20%20%20%20%20%3Ctext%20x%3D%22115.625px%22%20y%3D%2283.587px%22%20style%3D%22font-family%3A%27ArialMT%27%2C%20%27Arial%27%2C%20sans-serif%3Bfont-size%3A50px%3B%22%3EB4%3C%2Ftext%3E%0D%0A%20%20%20%20%3C%2Fg%3E%0D%0A%20%20%20%20%3Cg%20transform%3D%22matrix%281%2C0%2C0%2C1%2C1560.83%2C96%29%22%3E%0D%0A%20%20%20%20%20%20%20%20%3Crect%20x%3D%2284.35%22%20y%3D%2246.521%22%20width%3D%2282.01%22%20height%3D%2282.01%22%20style%3D%22fill%3Argb%28166%2C219%2C223%29%3Bstroke%3Ablack%3Bstroke-width%3A1px%3B%22%2F%3E%0D%0A%20%20%20%20%3C%2Fg%3E%0D%0A%20%20%20%20%3Cg%20transform%3D%22matrix%281%2C0%2C0%2C1%2C1531.83%2C118%29%22%3E%0D%0A%20%20%20%20%20%20%20%20%3Ctext%20x%3D%22115.625px%22%20y%3D%2283.587px%22%20style%3D%22font-family%3A%27ArialMT%27%2C%20%27Arial%27%2C%20sans-serif%3Bfont-size%3A50px%3B%22%3EB-4%3C%2Ftext%3E%0D%0A%20%20%20%20%3C%2Fg%3E%0D%0A%20%20%20%20%3Cg%20transform%3D%22matrix%281%2C0%2C0%2C1%2C1642.83%2C-44%29%22%3E%0D%0A%20%20%20%20%20%20%20%20%3Crect%20x%3D%2284.35%22%20y%3D%2246.521%22%20width%3D%2282.01%22%20height%3D%2282.01%22%20style%3D%22fill%3Argb%28202%2C203%2C201%29%3Bstroke%3Ablack%3Bstroke-width%3A1px%3B%22%2F%3E%0D%0A%20%20%20%20%3C%2Fg%3E%0D%0A%20%20%20%20%3Cg%20transform%3D%22matrix%281%2C0%2C0%2C1%2C1609.83%2C-22%29%22%3E%0D%0A%20%20%20%20%20%20%20%20%3Ctext%20x%3D%22115.625px%22%20y%3D%2283.587px%22%20style%3D%22font-family%3A%27ArialMT%27%2C%20%27Arial%27%2C%20sans-serif%3Bfont-size%3A50px%3B%22%3EF%234%3C%2Ftext%3E%0D%0A%20%20%20%20%3C%2Fg%3E%0D%0A%20%20%20%20%3Cg%20transform%3D%22matrix%281%2C0%2C0%2C1%2C1314.83%2C236%29%22%3E%0D%0A%20%20%20%20%20%20%20%20%3Crect%20x%3D%2284.35%22%20y%3D%2246.521%22%20width%3D%2282.01%22%20height%3D%2282.01%22%20style%3D%22fill%3Argb%28151%2C208%2C119%29%3Bstroke%3Ablack%3Bstroke-width%3A1px%3B%22%2F%3E%0D%0A%20%20%20%20%3C%2Fg%3E%0D%0A%20%20%20%20%3Cg%20transform%3D%22matrix%281%2C0%2C0%2C1%2C1292.83%2C258%29%22%3E%0D%0A%20%20%20%20%20%20%20%20%3Ctext%20x%3D%22115.625px%22%20y%3D%2283.587px%22%20style%3D%22font-family%3A%27ArialMT%27%2C%20%27Arial%27%2C%20sans-serif%3Bfont-size%3A50px%3B%22%3EE4%3C%2Ftext%3E%0D%0A%20%20%20%20%3C%2Fg%3E%0D%0A%20%20%20%20%3Cg%20transform%3D%22matrix%281%2C0%2C0%2C1%2C1396.83%2C236%29%22%3E%0D%0A%20%20%20%20%20%20%20%20%3Crect%20x%3D%2284.35%22%20y%3D%2246.521%22%20width%3D%2282.01%22%20height%3D%2282.01%22%20style%3D%22fill%3Argb%28151%2C208%2C119%29%3Bstroke%3Ablack%3Bstroke-width%3A1px%3B%22%2F%3E%0D%0A%20%20%20%20%3C%2Fg%3E%0D%0A%20%20%20%20%3Cg%20transform%3D%22matrix%281%2C0%2C0%2C1%2C1374.83%2C258%29%22%3E%0D%0A%20%20%20%20%20%20%20%20%3Ctext%20x%3D%22115.625px%22%20y%3D%2283.587px%22%20style%3D%22font-family%3A%27ArialMT%27%2C%20%27Arial%27%2C%20sans-serif%3Bfont-size%3A50px%3B%22%3EC6%3C%2Ftext%3E%0D%0A%20%20%20%20%3C%2Fg%3E%0D%0A%20%20%20%20%3Cg%20transform%3D%22matrix%281%2C0%2C0%2C1%2C1478.83%2C236%29%22%3E%0D%0A%20%20%20%20%20%20%20%20%3Crect%20x%3D%2284.35%22%20y%3D%2246.521%22%20width%3D%2282.01%22%20height%3D%2282.01%22%20style%3D%22fill%3Argb%28151%2C208%2C119%29%3Bstroke%3Ablack%3Bstroke-width%3A1px%3B%22%2F%3E%0D%0A%20%20%20%20%3C%2Fg%3E%0D%0A%20%20%20%20%3Cg%20transform%3D%22matrix%281%2C0%2C0%2C1%2C1456.83%2C258%29%22%3E%0D%0A%20%20%20%20%20%20%20%20%3Ctext%20x%3D%22115.625px%22%20y%3D%2283.587px%22%20style%3D%22font-family%3A%27ArialMT%27%2C%20%27Arial%27%2C%20sans-serif%3Bfont-size%3A50px%3B%22%3EB4%3C%2Ftext%3E%0D%0A%20%20%20%20%3C%2Fg%3E%0D%0A%20%20%20%20%3Cg%20transform%3D%22matrix%281%2C0%2C0%2C1%2C1560.83%2C236%29%22%3E%0D%0A%20%20%20%20%20%20%20%20%3Crect%20x%3D%2284.35%22%20y%3D%2246.521%22%20width%3D%2282.01%22%20height%3D%2282.01%22%20style%3D%22fill%3Argb%28151%2C208%2C119%29%3Bstroke%3Ablack%3Bstroke-width%3A1px%3B%22%2F%3E%0D%0A%20%20%20%20%3C%2Fg%3E%0D%0A%20%20%20%20%3Cg%20transform%3D%22matrix%281%2C0%2C0%2C1%2C1531.83%2C258%29%22%3E%0D%0A%20%20%20%20%20%20%20%20%3Ctext%20x%3D%22115.625px%22%20y%3D%2283.587px%22%20style%3D%22font-family%3A%27ArialMT%27%2C%20%27Arial%27%2C%20sans-serif%3Bfont-size%3A50px%3B%22%3EB-4%3C%2Ftext%3E%0D%0A%20%20%20%20%3C%2Fg%3E%0D%0A%20%20%20%20%3Cg%20transform%3D%22matrix%281%2C0%2C0%2C1%2C1642.83%2C236%29%22%3E%0D%0A%20%20%20%20%20%20%20%20%3Crect%20x%3D%2284.35%22%20y%3D%2246.521%22%20width%3D%2282.01%22%20height%3D%2282.01%22%20style%3D%22fill%3Argb%28166%2C219%2C223%29%3Bstroke%3Ablack%3Bstroke-width%3A1px%3B%22%2F%3E%0D%0A%20%20%20%20%3C%2Fg%3E%0D%0A%20%20%20%20%3Cg%20transform%3D%22matrix%281%2C0%2C0%2C1%2C1609.83%2C258%29%22%3E%0D%0A%20%20%20%20%20%20%20%20%3Ctext%20x%3D%22115.625px%22%20y%3D%2283.587px%22%20style%3D%22font-family%3A%27ArialMT%27%2C%20%27Arial%27%2C%20sans-serif%3Bfont-size%3A50px%3B%22%3EF%234%3C%2Ftext%3E%0D%0A%20%20%20%20%3C%2Fg%3E%0D%0A%20%20%20%20%3Cg%20transform%3D%22matrix%281%2C0%2C0%2C1%2C1724.83%2C-44%29%22%3E%0D%0A%20%20%20%20%20%20%20%20%3Crect%20x%3D%2284.35%22%20y%3D%2246.521%22%20width%3D%2282.01%22%20height%3D%2282.01%22%20style%3D%22fill%3Argb%28202%2C203%2C201%29%3Bstroke%3Ablack%3Bstroke-width%3A1px%3B%22%2F%3E%0D%0A%20%20%20%20%3C%2Fg%3E%0D%0A%20%20%20%20%3Cg%20transform%3D%22matrix%281%2C0%2C0%2C1%2C1701.83%2C-22%29%22%3E%0D%0A%20%20%20%20%20%20%20%20%3Ctext%20x%3D%22115.625px%22%20y%3D%2283.587px%22%20style%3D%22font-family%3A%27ArialMT%27%2C%20%27Arial%27%2C%20sans-serif%3Bfont-size%3A50px%3B%22%3EC%23%3C%2Ftext%3E%0D%0A%20%20%20%20%3C%2Fg%3E%0D%0A%20%20%20%20%3Cg%20transform%3D%22matrix%281%2C0%2C0%2C1%2C1396.83%2C376%29%22%3E%0D%0A%20%20%20%20%20%20%20%20%3Crect%20x%3D%2284.35%22%20y%3D%2246.521%22%20width%3D%2282.01%22%20height%3D%2282.01%22%20style%3D%22fill%3Argb%28151%2C208%2C119%29%3Bstroke%3Ablack%3Bstroke-width%3A1px%3B%22%2F%3E%0D%0A%20%20%20%20%3C%2Fg%3E%0D%0A%20%20%20%20%3Cg%20transform%3D%22matrix%281%2C0%2C0%2C1%2C1374.83%2C398%29%22%3E%0D%0A%20%20%20%20%20%20%20%20%3Ctext%20x%3D%22115.625px%22%20y%3D%2283.587px%22%20style%3D%22font-family%3A%27ArialMT%27%2C%20%27Arial%27%2C%20sans-serif%3Bfont-size%3A50px%3B%22%3EC6%3C%2Ftext%3E%0D%0A%20%20%20%20%3C%2Fg%3E%0D%0A%20%20%20%20%3Cg%20transform%3D%22matrix%281%2C0%2C0%2C1%2C1478.83%2C376%29%22%3E%0D%0A%20%20%20%20%20%20%20%20%3Crect%20x%3D%2284.35%22%20y%3D%2246.521%22%20width%3D%2282.01%22%20height%3D%2282.01%22%20style%3D%22fill%3Argb%28151%2C208%2C119%29%3Bstroke%3Ablack%3Bstroke-width%3A1px%3B%22%2F%3E%0D%0A%20%20%20%20%3C%2Fg%3E%0D%0A%20%20%20%20%3Cg%20transform%3D%22matrix%281%2C0%2C0%2C1%2C1456.83%2C398%29%22%3E%0D%0A%20%20%20%20%20%20%20%20%3Ctext%20x%3D%22115.625px%22%20y%3D%2283.587px%22%20style%3D%22font-family%3A%27ArialMT%27%2C%20%27Arial%27%2C%20sans-serif%3Bfont-size%3A50px%3B%22%3EB4%3C%2Ftext%3E%0D%0A%20%20%20%20%3C%2Fg%3E%0D%0A%20%20%20%20%3Cg%20transform%3D%22matrix%281%2C0%2C0%2C1%2C1560.83%2C376%29%22%3E%0D%0A%20%20%20%20%20%20%20%20%3Crect%20x%3D%2284.35%22%20y%3D%2246.521%22%20width%3D%2282.01%22%20height%3D%2282.01%22%20style%3D%22fill%3Argb%28151%2C208%2C119%29%3Bstroke%3Ablack%3Bstroke-width%3A1px%3B%22%2F%3E%0D%0A%20%20%20%20%3C%2Fg%3E%0D%0A%20%20%20%20%3Cg%20transform%3D%22matrix%281%2C0%2C0%2C1%2C1531.83%2C398%29%22%3E%0D%0A%20%20%20%20%20%20%20%20%3Ctext%20x%3D%22115.625px%22%20y%3D%2283.587px%22%20style%3D%22font-family%3A%27ArialMT%27%2C%20%27Arial%27%2C%20sans-serif%3Bfont-size%3A50px%3B%22%3EB-4%3C%2Ftext%3E%0D%0A%20%20%20%20%3C%2Fg%3E%0D%0A%20%20%20%20%3Cg%20transform%3D%22matrix%281%2C0%2C0%2C1%2C1642.83%2C376%29%22%3E%0D%0A%20%20%20%20%20%20%20%20%3Crect%20x%3D%2284.35%22%20y%3D%2246.521%22%20width%3D%2282.01%22%20height%3D%2282.01%22%20style%3D%22fill%3Argb%28151%2C208%2C119%29%3Bstroke%3Ablack%3Bstroke-width%3A1px%3B%22%2F%3E%0D%0A%20%20%20%20%3C%2Fg%3E%0D%0A%20%20%20%20%3Cg%20transform%3D%22matrix%281%2C0%2C0%2C1%2C1609.83%2C398%29%22%3E%0D%0A%20%20%20%20%20%20%20%20%3Ctext%20x%3D%22115.625px%22%20y%3D%2283.587px%22%20style%3D%22font-family%3A%27ArialMT%27%2C%20%27Arial%27%2C%20sans-serif%3Bfont-size%3A50px%3B%22%3EF%234%3C%2Ftext%3E%0D%0A%20%20%20%20%3C%2Fg%3E%0D%0A%20%20%20%20%3Cg%20transform%3D%22matrix%281%2C0%2C0%2C1%2C1724.83%2C376%29%22%3E%0D%0A%20%20%20%20%20%20%20%20%3Crect%20x%3D%2284.35%22%20y%3D%2246.521%22%20width%3D%2282.01%22%20height%3D%2282.01%22%20style%3D%22fill%3Argb%28166%2C219%2C223%29%3Bstroke%3Ablack%3Bstroke-width%3A1px%3B%22%2F%3E%0D%0A%20%20%20%20%3C%2Fg%3E%0D%0A%20%20%20%20%3Cg%20transform%3D%22matrix%281%2C0%2C0%2C1%2C1701.83%2C398%29%22%3E%0D%0A%20%20%20%20%20%20%20%20%3Ctext%20x%3D%22115.625px%22%20y%3D%2283.587px%22%20style%3D%22font-family%3A%27ArialMT%27%2C%20%27Arial%27%2C%20sans-serif%3Bfont-size%3A50px%3B%22%3EC%23%3C%2Ftext%3E%0D%0A%20%20%20%20%3C%2Fg%3E%0D%0A%20%20%20%20%3Cg%20transform%3D%22matrix%281%2C0%2C0%2C1%2C1806.83%2C-44%29%22%3E%0D%0A%20%20%20%20%20%20%20%20%3Crect%20x%3D%2284.35%22%20y%3D%2246.521%22%20width%3D%2282.01%22%20height%3D%2282.01%22%20style%3D%22fill%3Argb%28202%2C203%2C201%29%3Bstroke%3Ablack%3Bstroke-width%3A1px%3B%22%2F%3E%0D%0A%20%20%20%20%3C%2Fg%3E%0D%0A%20%20%20%20%3Cg%20transform%3D%22matrix%281%2C0%2C0%2C1%2C1784.83%2C-22%29%22%3E%0D%0A%20%20%20%20%20%20%20%20%3Ctext%20x%3D%22115.625px%22%20y%3D%2283.587px%22%20style%3D%22font-family%3A%27ArialMT%27%2C%20%27Arial%27%2C%20sans-serif%3Bfont-size%3A50px%3B%22%3EB4%3C%2Ftext%3E%0D%0A%20%20%20%20%3C%2Fg%3E%0D%0A%20%20%20%20%3Cg%20transform%3D%22matrix%281%2C0%2C0%2C1%2C1888.83%2C-44%29%22%3E%0D%0A%20%20%20%20%20%20%20%20%3Crect%20x%3D%2284.35%22%20y%3D%2246.521%22%20width%3D%2282.01%22%20height%3D%2282.01%22%20style%3D%22fill%3Argb%28202%2C203%2C201%29%3Bstroke%3Ablack%3Bstroke-width%3A1px%3B%22%2F%3E%0D%0A%20%20%20%20%3C%2Fg%3E%0D%0A%20%20%20%20%3Cg%20transform%3D%22matrix%281%2C0%2C0%2C1%2C1866.83%2C-22%29%22%3E%0D%0A%20%20%20%20%20%20%20%20%3Ctext%20x%3D%22115.625px%22%20y%3D%2283.587px%22%20style%3D%22font-family%3A%27ArialMT%27%2C%20%27Arial%27%2C%20sans-serif%3Bfont-size%3A50px%3B%22%3EB5%3C%2Ftext%3E%0D%0A%20%20%20%20%3C%2Fg%3E%0D%0A%20%20%20%20%3Cg%20transform%3D%22matrix%281%2C0%2C0%2C1%2C985.827%2C-44%29%22%3E%0D%0A%20%20%20%20%20%20%20%20%3Cpath%20d%3D%22M331.35%2C186.521L331.36%2C128.531%22%20style%3D%22fill%3Anone%3Bstroke%3Ablack%3Bstroke-width%3A1px%3Bstroke-dasharray%3A3%2C3%2C0%2C0%3B%22%2F%3E%0D%0A%20%20%20%20%3C%2Fg%3E%0D%0A%20%20%20%20%3Cg%20transform%3D%22matrix%281%2C0%2C0%2C1%2C985.827%2C-44%29%22%3E%0D%0A%20%20%20%20%20%20%20%20%3Cpath%20d%3D%22M659.35%2C186.521L659.35%2C128.531%22%20style%3D%22fill%3Anone%3Bstroke%3Ablack%3Bstroke-width%3A1px%3Bstroke-dasharray%3A3%2C3%2C0%2C0%3B%22%2F%3E%0D%0A%20%20%20%20%3C%2Fg%3E%0D%0A%20%20%20%20%3Cg%20transform%3D%22matrix%281%2C0%2C0%2C1%2C985.827%2C-44%29%22%3E%0D%0A%20%20%20%20%20%20%20%20%3Cpath%20d%3D%22M413.35%2C326.521L413.35%2C128.531%22%20style%3D%22fill%3Anone%3Bstroke%3Ablack%3Bstroke-width%3A1px%3Bstroke-dasharray%3A3%2C3%2C0%2C0%3B%22%2F%3E%0D%0A%20%20%20%20%3C%2Fg%3E%0D%0A%20%20%20%20%3Cg%20transform%3D%22matrix%281%2C0%2C0%2C1%2C985.827%2C-44%29%22%3E%0D%0A%20%20%20%20%20%20%20%20%3Cpath%20d%3D%22M741.35%2C326.521L741.35%2C128.531%22%20style%3D%22fill%3Anone%3Bstroke%3Ablack%3Bstroke-width%3A1px%3Bstroke-dasharray%3A3%2C3%2C0%2C0%3B%22%2F%3E%0D%0A%20%20%20%20%3C%2Fg%3E%0D%0A%20%20%20%20%3Cg%20transform%3D%22matrix%281%2C0%2C0%2C1%2C985.827%2C-44%29%22%3E%0D%0A%20%20%20%20%20%20%20%20%3Cpath%20d%3D%22M495.36%2C466.414L495.35%2C128.531%22%20style%3D%22fill%3Anone%3Bstroke%3Ablack%3Bstroke-width%3A1px%3Bstroke-dasharray%3A3%2C3%2C0%2C0%3B%22%2F%3E%0D%0A%20%20%20%20%3C%2Fg%3E%0D%0A%20%20%20%20%3Cg%20transform%3D%22matrix%281%2C0%2C0%2C1%2C985.827%2C-44%29%22%3E%0D%0A%20%20%20%20%20%20%20%20%3Cpath%20d%3D%22M823.36%2C466.414L823.36%2C128.531%22%20style%3D%22fill%3Anone%3Bstroke%3Ablack%3Bstroke-width%3A1px%3Bstroke-dasharray%3A3%2C3%2C0%2C0%3B%22%2F%3E%0D%0A%20%20%20%20%3C%2Fg%3E%0D%0A%20%20%20%20%3Cg%20transform%3D%22matrix%281%2C0%2C0%2C1%2C985.827%2C-44%29%22%3E%0D%0A%20%20%20%20%20%20%20%20%3Cpath%20d%3D%22M905.36%2C466.521L905.36%2C128.531%22%20style%3D%22fill%3Anone%3Bstroke%3Ablack%3Bstroke-width%3A1px%3Bstroke-dasharray%3A3%2C3%2C0%2C0%3B%22%2F%3E%0D%0A%20%20%20%20%3C%2Fg%3E%0D%0A%20%20%20%20%3Cg%20transform%3D%22matrix%280.50007%2C0%2C0%2C1%2C1601.35%2C-303.498%29%22%3E%0D%0A%20%20%20%20%20%20%20%20%3Cpath%20d%3D%22M275.736%2C494.2L275.736%2C479.848L374.611%2C479.848L374.611%2C466.521L415.61%2C487.024L374.611%2C507.526L374.611%2C494.2L275.736%2C494.2Z%22%2F%3E%0D%0A%20%20%20%20%3C%2Fg%3E%0D%0A%20%20%20%20%3Cg%20transform%3D%22matrix%280.50007%2C0%2C0%2C1%2C1683.35%2C-163.498%29%22%3E%0D%0A%20%20%20%20%20%20%20%20%3Cpath%20d%3D%22M275.736%2C494.2L275.736%2C479.848L374.611%2C479.848L374.611%2C466.521L415.61%2C487.024L374.611%2C507.526L374.611%2C494.2L275.736%2C494.2Z%22%2F%3E%0D%0A%20%20%20%20%3C%2Fg%3E%0D%0A%20%20%20%20%3Cg%20transform%3D%22matrix%280.50007%2C0%2C0%2C1%2C1765.35%2C-23.4975%29%22%3E%0D%0A%20%20%20%20%20%20%20%20%3Cpath%20d%3D%22M275.736%2C494.2L275.736%2C479.848L374.611%2C479.848L374.611%2C466.521L415.61%2C487.024L374.611%2C507.526L374.611%2C494.2L275.736%2C494.2Z%22%2F%3E%0D%0A%20%20%20%20%3C%2Fg%3E%0D%0A%20%20%20%20%3Cg%20transform%3D%22matrix%281%2C0%2C0%2C1%2C1103.37%2C6.19147%29%22%3E%0D%0A%20%20%20%20%20%20%20%20%3Ctext%20x%3D%22517.599px%22%20y%3D%22569.231px%22%20style%3D%22font-family%3A%27LMMath-Regular%27%2C%20%27Latin%20Modern%20Math%27%3Bfont-size%3A62.5px%3B%22%3EX%3C%2Ftext%3E%0D%0A%20%20%20%20%3C%2Fg%3E%0D%0A%20%20%20%20%3Cg%20transform%3D%22matrix%281%2C0%2C0%2C1%2C437.584%2C-364.362%29%22%3E%0D%0A%20%20%20%20%20%20%20%20%3Ctext%20x%3D%22517.599px%22%20y%3D%22569.231px%22%20style%3D%22font-family%3A%27LMMath-Regular%27%2C%20%27Latin%20Modern%20Math%27%3Bfont-size%3A62.5px%3B%22%3Eseq%3C%2Ftext%3E%0D%0A%20%20%20%20%20%20%20%20%3Ctext%20x%3D%22602.974px%22%20y%3D%22590.044px%22%20style%3D%22font-family%3A%27LMMath-Regular%27%2C%20%27Latin%20Modern%20Math%27%3Bfont-size%3A36.438px%3B%22%3E4%3C%2Ftext%3E%0D%0A%20%20%20%20%3C%2Fg%3E%0D%0A%20%20%20%20%3Cg%20transform%3D%22matrix%281%2C0%2C0%2C1%2C383.584%2C-514.362%29%22%3E%0D%0A%20%20%20%20%20%20%20%20%3Ctext%20x%3D%22517.599px%22%20y%3D%22569.231px%22%20style%3D%22font-family%3A%27LMMath-Regular%27%2C%20%27Latin%20Modern%20Math%27%3Bfont-size%3A62.5px%3B%22%3Enotes%3C%2Ftext%3E%0D%0A%20%20%20%20%3C%2Fg%3E%0D%0A%20%20%20%20%3Cg%20transform%3D%22matrix%281%2C0%2C0%2C1%2C437.584%2C-234.362%29%22%3E%0D%0A%20%20%20%20%20%20%20%20%3Ctext%20x%3D%22517.599px%22%20y%3D%22569.231px%22%20style%3D%22font-family%3A%27LMMath-Regular%27%2C%20%27Latin%20Modern%20Math%27%3Bfont-size%3A62.5px%3B%22%3Eseq%3C%2Ftext%3E%0D%0A%20%20%20%20%20%20%20%20%3Ctext%20x%3D%22602.974px%22%20y%3D%22590.044px%22%20style%3D%22font-family%3A%27LMMath-Regular%27%2C%20%27Latin%20Modern%20Math%27%3Bfont-size%3A36.438px%3B%22%3E5%3C%2Ftext%3E%0D%0A%20%20%20%20%3C%2Fg%3E%0D%0A%20%20%20%20%3Cg%20transform%3D%22matrix%281%2C0%2C0%2C1%2C437.584%2C-94.3615%29%22%3E%0D%0A%20%20%20%20%20%20%20%20%3Ctext%20x%3D%22517.599px%22%20y%3D%22569.231px%22%20style%3D%22font-family%3A%27LMMath-Regular%27%2C%20%27Latin%20Modern%20Math%27%3Bfont-size%3A62.5px%3B%22%3Eseq%3C%2Ftext%3E%0D%0A%20%20%20%20%20%20%20%20%3Ctext%20x%3D%22602.974px%22%20y%3D%22590.044px%22%20style%3D%22font-family%3A%27LMMath-Regular%27%2C%20%27Latin%20Modern%20Math%27%3Bfont-size%3A36.438px%3B%22%3E6%3C%2Ftext%3E%0D%0A%20%20%20%20%3C%2Fg%3E%0D%0A%20%20%20%20%3Cg%20transform%3D%22matrix%28-0.00034298%2C1%2C-1%2C-0.00034298%2C1573.35%2C-16.572%29%22%3E%0D%0A%20%20%20%20%20%20%20%20%3Ctext%20x%3D%22517.599px%22%20y%3D%22569.231px%22%20style%3D%22font-family%3A%27LMMath-Regular%27%2C%20%27Latin%20Modern%20Math%27%3Bfont-size%3A62.5px%3B%22%3E...%3C%2Ftext%3E%0D%0A%20%20%20%20%3C%2Fg%3E%0D%0A%20%20%20%20%3Cg%20transform%3D%22matrix%28-0.00034298%2C1%2C-1%2C-0.00034298%2C1570.03%2C-421.634%29%22%3E%0D%0A%20%20%20%20%20%20%20%20%3Ctext%20x%3D%22517.599px%22%20y%3D%22569.231px%22%20style%3D%22font-family%3A%27LMMath-Regular%27%2C%20%27Latin%20Modern%20Math%27%3Bfont-size%3A62.5px%3B%22%3E...%3C%2Ftext%3E%0D%0A%20%20%20%20%3C%2Fg%3E%0D%0A%20%20%20%20%3Cg%20transform%3D%22matrix%281%2C0%2C0%2C1%2C1314.37%2C6.19147%29%22%3E%0D%0A%20%20%20%20%20%20%20%20%3Ctext%20x%3D%22517.599px%22%20y%3D%22569.231px%22%20style%3D%22font-family%3A%27LMMath-Regular%27%2C%20%27Latin%20Modern%20Math%27%3Bfont-size%3A62.5px%3B%22%3Ey%3C%2Ftext%3E%0D%0A%20%20%20%20%3C%2Fg%3E%0D%0A%20%20%20%20%3Cg%20transform%3D%22matrix%280.00023754%2C0.71323%2C-4.12755%2C0.00137467%2C4031.46%2C247.776%29%22%3E%0D%0A%20%20%20%20%20%20%20%20%3Ctext%20x%3D%22353.101px%22%20y%3D%22598.079px%22%20style%3D%22font-family%3A%27LMMath-Regular%27%2C%20%27Latin%20Modern%20Math%27%3Bfont-size%3A79.542px%3B%22%3E%7D%3C%2Ftext%3E%0D%0A%20%20%20%20%3C%2Fg%3E%0D%0A%20%20%20%20%3Cg%20transform%3D%22matrix%280.00023754%2C0.71323%2C-1.03072%2C0.000343278%2C2446.05%2C248.332%29%22%3E%0D%0A%20%20%20%20%20%20%20%20%3Ctext%20x%3D%22353.101px%22%20y%3D%22598.079px%22%20style%3D%22font-family%3A%27LMMath-Regular%27%2C%20%27Latin%20Modern%20Math%27%3Bfont-size%3A79.542px%3B%22%3E%7D%3C%2Ftext%3E%0D%0A%20%20%20%20%3C%2Fg%3E%0D%0A%3C%2Fsvg%3E%0D%0A\" />\n",
    "\n",
    "#### Tasks: \n",
    "* Create the training elements by following the *shifting* procedure depicted above\n",
    "* normalize the input sequences to $[0,1|$ and one-hot encode the labels\n",
    "\n",
    "#### Hints:\n",
    "* Use a sequence length of ~50-100 notes\n",
    "* create a mapping from the string-representation of a tone to an int and vice versa\n",
    "* use [```keras.utils.to_categorical```](https://keras.io/api/utils/python_utils/#tocategorical-function) to convert an integer to a one-hot vector"
   ]
  },
  {
   "cell_type": "code",
   "execution_count": 9,
   "metadata": {
    "ExecuteTime": {
     "end_time": "2018-05-30T08:22:02.517641Z",
     "start_time": "2018-05-30T08:22:01.635751Z"
    }
   },
   "outputs": [],
   "source": [
    "# Test\n",
    "def create_training_data(sequence, k:int):\n",
    "    input = len(sequence)[:k]\n",
    "    output = len(sequence)[k:]"
   ]
  },
  {
   "cell_type": "markdown",
   "metadata": {},
   "source": [
    "<font color=\"blue\">\n",
    "Comment: For classical pieces, the complexity of the arragement is higher than from a simple piece. This is why at first, we tried to use 100 as sequence length k. ToDo</font>"
   ]
  },
  {
   "cell_type": "markdown",
   "metadata": {},
   "source": [
    "## Create and train the Network\n",
    "\n",
    "With the prepared training data, it is now possible to train the network. There are many variants of RNNs (e.g. unidirectional vs. bidirectional and LSTM vs. GRU). You can encouraged to try your own network architecture, however here is an example architecture as a starting point:\n",
    "\n",
    "* 3 consecutive unidirectional recurrent layer with ```512``` [LSTM](https://keras.io/api/layers/recurrent_layers/lstm/) units, returning all sequence states (not only the last state) to feed into the next recurrent layer (except for the last layer) and [Dropout](https://keras.io/api/layers/regularization_layers/dropout/) with a rate of ```0.3``` between each layer\n",
    "* a [Dense](https://keras.io/api/layers/core_layers/dense/) layer with ```256``` neurons, ReLU activation and a dropout rate of ```0.3```\n",
    "* another Dense layer for the output with softmax activation\n",
    "* RMSProp optimizer using categorical-crossentropy as lossfunction"
   ]
  },
  {
   "cell_type": "code",
   "execution_count": 17,
   "metadata": {
    "ExecuteTime": {
     "end_time": "2018-05-30T08:54:58.028699Z",
     "start_time": "2018-05-30T08:54:56.076833Z"
    }
   },
   "outputs": [
    {
     "name": "stdout",
     "output_type": "stream",
     "text": [
      "Tensorflow version: 2.6.2 | Keras version: 2.6.0\n"
     ]
    }
   ],
   "source": [
    "# Import required libraries\n",
    "import numpy as np \n",
    "import os\n",
    "import tensorflow as tf\n",
    "from tensorflow import keras\n",
    "from tensorflow.keras.datasets import mnist\n",
    "\n",
    "# Keras specific\n",
    "from tensorflow import keras\n",
    "from tensorflow.keras import layers\n",
    "from tensorflow.keras.models import Sequential\n",
    "from tensorflow.keras.layers import Conv1D, MaxPooling1D, GlobalMaxPooling1D, Dense, Embedding\n",
    "from tensorflow.keras.utils import to_categorical\n",
    "\n",
    "print(f\"Tensorflow version: {tf.__version__} | Keras version: {keras.__version__}\")\n",
    "\n"
   ]
  },
  {
   "cell_type": "code",
   "execution_count": 19,
   "metadata": {},
   "outputs": [
    {
     "name": "stdout",
     "output_type": "stream",
     "text": [
      "Model: \"sequential_4\"\n",
      "_________________________________________________________________\n",
      "Layer (type)                 Output Shape              Param #   \n",
      "=================================================================\n",
      "embedding_1 (Embedding)      (None, None, 1)           50        \n",
      "_________________________________________________________________\n",
      "lstm_1 (LSTM)                (None, 512)               1052672   \n",
      "_________________________________________________________________\n",
      "dense_1 (Dense)              (None, 10)                5130      \n",
      "=================================================================\n",
      "Total params: 1,057,852\n",
      "Trainable params: 1,057,852\n",
      "Non-trainable params: 0\n",
      "_________________________________________________________________\n"
     ]
    }
   ],
   "source": [
    "model = Sequential() \n",
    "model.add(layers.Embedding(input_dim=50, output_dim=1))\n",
    "model.add(layers.LSTM(512))\n",
    "model.add(layers.Dense(10))\n",
    "\n",
    "model.summary()"
   ]
  },
  {
   "cell_type": "markdown",
   "metadata": {},
   "source": [
    "As the training of a complex RNN can take a very long time, you should make sure to add a [ModelCheckpoint](https://keras.io/api/callbacks/model_checkpoint/) callback to your model to regularly save the parameters during training.\n",
    "\n",
    "#### Tasks:\n",
    "* train your model for 50-100 epochs\n",
    "\n",
    "#### Hints:\n",
    "* train your model on a reduced training set and for a single epoch first to make sure you have no programming errors\n",
    "* the training can take a very long time, use the [Deeplearn Machines @ HDM](https://deeplearn.pages.mi.hdm-stuttgart.de/docs/) to speed up training (significantly!)"
   ]
  },
  {
   "cell_type": "code",
   "execution_count": null,
   "metadata": {
    "ExecuteTime": {
     "end_time": "2018-05-30T07:07:24.836911Z",
     "start_time": "2018-05-30T06:46:01.478128Z"
    }
   },
   "outputs": [],
   "source": []
  },
  {
   "cell_type": "markdown",
   "metadata": {},
   "source": [
    "# Generating new Music\n",
    "\n",
    "After training, the model should have learned to predict the note or chord after *listening* to a sequence of tones. If the model is good at this task, it means that it does know what sequence of tones *sounds right™* (given the training data has the same property).\n",
    "\n",
    "To generate new music, you just need to let the network *listen* to a sequence of tones (the seed) and ask for the next note or chord. Then, append this predicted tone to the end of the seed (and remove the first entry), feed the new seed into the network and get for the next tone.\n",
    "\n",
    "<img alt=\"rnn generation\" src=\"data:image/svg+xml,%3C%3Fxml%20version%3D%221.0%22%20encoding%3D%22UTF-8%22%20standalone%3D%22no%22%3F%3E%0D%0A%3C%21DOCTYPE%20svg%20PUBLIC%20%22-%2F%2FW3C%2F%2FDTD%20SVG%201.1%2F%2FEN%22%20%22http%3A%2F%2Fwww.w3.org%2FGraphics%2FSVG%2F1.1%2FDTD%2Fsvg11.dtd%22%3E%0D%0A%3Csvg%20width%3D%22100%25%22%20height%3D%22100%25%22%20viewBox%3D%220%200%202953%20591%22%20version%3D%221.1%22%20xmlns%3D%22http%3A%2F%2Fwww.w3.org%2F2000%2Fsvg%22%20xmlns%3Axlink%3D%22http%3A%2F%2Fwww.w3.org%2F1999%2Fxlink%22%20xml%3Aspace%3D%22preserve%22%20xmlns%3Aserif%3D%22http%3A%2F%2Fwww.serif.com%2F%22%20style%3D%22fill-rule%3Aevenodd%3Bclip-rule%3Aevenodd%3Bstroke-linecap%3Around%3Bstroke-linejoin%3Around%3Bstroke-miterlimit%3A1.5%3B%22%3E%0D%0A%20%20%20%20%3Cg%20transform%3D%22matrix%281%2C0%2C0%2C1%2C506.827%2C26%29%22%3E%0D%0A%20%20%20%20%20%20%20%20%3Crect%20x%3D%2284.35%22%20y%3D%2246.521%22%20width%3D%2282.01%22%20height%3D%2282.01%22%20style%3D%22fill%3Argb%28208%2C124%2C127%29%3Bstroke%3Ablack%3Bstroke-width%3A1px%3B%22%2F%3E%0D%0A%20%20%20%20%3C%2Fg%3E%0D%0A%20%20%20%20%3Cg%20transform%3D%22matrix%281%2C0%2C0%2C1%2C483.827%2C48%29%22%3E%0D%0A%20%20%20%20%20%20%20%20%3Ctext%20x%3D%22115.625px%22%20y%3D%2283.587px%22%20style%3D%22font-family%3A%27ArialMT%27%2C%20%27Arial%27%2C%20sans-serif%3Bfont-size%3A50px%3B%22%3EC4%3C%2Ftext%3E%0D%0A%20%20%20%20%3C%2Fg%3E%0D%0A%20%20%20%20%3Cg%20transform%3D%22matrix%281%2C0%2C0%2C1%2C588.827%2C26%29%22%3E%0D%0A%20%20%20%20%20%20%20%20%3Crect%20x%3D%2284.35%22%20y%3D%2246.521%22%20width%3D%2282.01%22%20height%3D%2282.01%22%20style%3D%22fill%3Argb%28208%2C124%2C127%29%3Bstroke%3Ablack%3Bstroke-width%3A1px%3B%22%2F%3E%0D%0A%20%20%20%20%3C%2Fg%3E%0D%0A%20%20%20%20%3Cg%20transform%3D%22matrix%281%2C0%2C0%2C1%2C566.827%2C48%29%22%3E%0D%0A%20%20%20%20%20%20%20%20%3Ctext%20x%3D%22115.625px%22%20y%3D%2283.587px%22%20style%3D%22font-family%3A%27ArialMT%27%2C%20%27Arial%27%2C%20sans-serif%3Bfont-size%3A50px%3B%22%3EE4%3C%2Ftext%3E%0D%0A%20%20%20%20%3C%2Fg%3E%0D%0A%20%20%20%20%3Cg%20transform%3D%22matrix%281%2C0%2C0%2C1%2C670.827%2C26%29%22%3E%0D%0A%20%20%20%20%20%20%20%20%3Crect%20x%3D%2284.35%22%20y%3D%2246.521%22%20width%3D%2282.01%22%20height%3D%2282.01%22%20style%3D%22fill%3Argb%28208%2C124%2C127%29%3Bstroke%3Ablack%3Bstroke-width%3A1px%3B%22%2F%3E%0D%0A%20%20%20%20%3C%2Fg%3E%0D%0A%20%20%20%20%3Cg%20transform%3D%22matrix%281%2C0%2C0%2C1%2C648.827%2C48%29%22%3E%0D%0A%20%20%20%20%20%20%20%20%3Ctext%20x%3D%22115.625px%22%20y%3D%2283.587px%22%20style%3D%22font-family%3A%27ArialMT%27%2C%20%27Arial%27%2C%20sans-serif%3Bfont-size%3A50px%3B%22%3EC6%3C%2Ftext%3E%0D%0A%20%20%20%20%3C%2Fg%3E%0D%0A%20%20%20%20%3Cg%20transform%3D%22matrix%281%2C0%2C0%2C1%2C752.827%2C26%29%22%3E%0D%0A%20%20%20%20%20%20%20%20%3Crect%20x%3D%2284.35%22%20y%3D%2246.521%22%20width%3D%2282.01%22%20height%3D%2282.01%22%20style%3D%22fill%3Argb%28208%2C124%2C127%29%3Bstroke%3Ablack%3Bstroke-width%3A1px%3B%22%2F%3E%0D%0A%20%20%20%20%3C%2Fg%3E%0D%0A%20%20%20%20%3Cg%20transform%3D%22matrix%281%2C0%2C0%2C1%2C730.827%2C48%29%22%3E%0D%0A%20%20%20%20%20%20%20%20%3Ctext%20x%3D%22115.625px%22%20y%3D%2283.587px%22%20style%3D%22font-family%3A%27ArialMT%27%2C%20%27Arial%27%2C%20sans-serif%3Bfont-size%3A50px%3B%22%3EB4%3C%2Ftext%3E%0D%0A%20%20%20%20%3C%2Fg%3E%0D%0A%20%20%20%20%3Cg%20transform%3D%22matrix%281%2C0%2C0%2C1%2C588.827%2C166%29%22%3E%0D%0A%20%20%20%20%20%20%20%20%3Crect%20x%3D%2284.35%22%20y%3D%2246.521%22%20width%3D%2282.01%22%20height%3D%2282.01%22%20style%3D%22fill%3Argb%28208%2C124%2C127%29%3Bstroke%3Ablack%3Bstroke-width%3A1px%3B%22%2F%3E%0D%0A%20%20%20%20%3C%2Fg%3E%0D%0A%20%20%20%20%3Cg%20transform%3D%22matrix%281%2C0%2C0%2C1%2C566.827%2C188%29%22%3E%0D%0A%20%20%20%20%20%20%20%20%3Ctext%20x%3D%22115.625px%22%20y%3D%2283.587px%22%20style%3D%22font-family%3A%27ArialMT%27%2C%20%27Arial%27%2C%20sans-serif%3Bfont-size%3A50px%3B%22%3EE4%3C%2Ftext%3E%0D%0A%20%20%20%20%3C%2Fg%3E%0D%0A%20%20%20%20%3Cg%20transform%3D%22matrix%281%2C0%2C0%2C1%2C670.827%2C166%29%22%3E%0D%0A%20%20%20%20%20%20%20%20%3Crect%20x%3D%2284.35%22%20y%3D%2246.521%22%20width%3D%2282.01%22%20height%3D%2282.01%22%20style%3D%22fill%3Argb%28208%2C124%2C127%29%3Bstroke%3Ablack%3Bstroke-width%3A1px%3B%22%2F%3E%0D%0A%20%20%20%20%3C%2Fg%3E%0D%0A%20%20%20%20%3Cg%20transform%3D%22matrix%281%2C0%2C0%2C1%2C648.827%2C188%29%22%3E%0D%0A%20%20%20%20%20%20%20%20%3Ctext%20x%3D%22115.625px%22%20y%3D%2283.587px%22%20style%3D%22font-family%3A%27ArialMT%27%2C%20%27Arial%27%2C%20sans-serif%3Bfont-size%3A50px%3B%22%3EC6%3C%2Ftext%3E%0D%0A%20%20%20%20%3C%2Fg%3E%0D%0A%20%20%20%20%3Cg%20transform%3D%22matrix%281%2C0%2C0%2C1%2C752.827%2C166%29%22%3E%0D%0A%20%20%20%20%20%20%20%20%3Crect%20x%3D%2284.35%22%20y%3D%2246.521%22%20width%3D%2282.01%22%20height%3D%2282.01%22%20style%3D%22fill%3Argb%28208%2C124%2C127%29%3Bstroke%3Ablack%3Bstroke-width%3A1px%3B%22%2F%3E%0D%0A%20%20%20%20%3C%2Fg%3E%0D%0A%20%20%20%20%3Cg%20transform%3D%22matrix%281%2C0%2C0%2C1%2C730.827%2C188%29%22%3E%0D%0A%20%20%20%20%20%20%20%20%3Ctext%20x%3D%22115.625px%22%20y%3D%2283.587px%22%20style%3D%22font-family%3A%27ArialMT%27%2C%20%27Arial%27%2C%20sans-serif%3Bfont-size%3A50px%3B%22%3EB4%3C%2Ftext%3E%0D%0A%20%20%20%20%3C%2Fg%3E%0D%0A%20%20%20%20%3Cg%20transform%3D%22matrix%281%2C0%2C0%2C1%2C834.827%2C166%29%22%3E%0D%0A%20%20%20%20%20%20%20%20%3Crect%20x%3D%2284.35%22%20y%3D%2246.521%22%20width%3D%2282.01%22%20height%3D%2282.01%22%20style%3D%22fill%3Argb%28151%2C208%2C119%29%3Bstroke%3Ablack%3Bstroke-width%3A1px%3B%22%2F%3E%0D%0A%20%20%20%20%3C%2Fg%3E%0D%0A%20%20%20%20%3Cg%20transform%3D%22matrix%281%2C0%2C0%2C1%2C805.827%2C188%29%22%3E%0D%0A%20%20%20%20%20%20%20%20%3Ctext%20x%3D%22115.625px%22%20y%3D%2283.587px%22%20style%3D%22font-family%3A%27ArialMT%27%2C%20%27Arial%27%2C%20sans-serif%3Bfont-size%3A50px%3B%22%3EB-4%3C%2Ftext%3E%0D%0A%20%20%20%20%3C%2Fg%3E%0D%0A%20%20%20%20%3Cg%20transform%3D%22matrix%281%2C0%2C0%2C1%2C934.827%2C26%29%22%3E%0D%0A%20%20%20%20%20%20%20%20%3Crect%20x%3D%2284.35%22%20y%3D%2246.521%22%20width%3D%2282.01%22%20height%3D%2282.01%22%20style%3D%22fill%3Argb%28151%2C208%2C119%29%3Bstroke%3Ablack%3Bstroke-width%3A1px%3B%22%2F%3E%0D%0A%20%20%20%20%3C%2Fg%3E%0D%0A%20%20%20%20%3Cg%20transform%3D%22matrix%281%2C0%2C0%2C1%2C905.827%2C48%29%22%3E%0D%0A%20%20%20%20%20%20%20%20%3Ctext%20x%3D%22115.625px%22%20y%3D%2283.587px%22%20style%3D%22font-family%3A%27ArialMT%27%2C%20%27Arial%27%2C%20sans-serif%3Bfont-size%3A50px%3B%22%3EB-4%3C%2Ftext%3E%0D%0A%20%20%20%20%3C%2Fg%3E%0D%0A%20%20%20%20%3Cg%20transform%3D%22matrix%281%2C0%2C0%2C1%2C1576.83%2C26%29%22%3E%0D%0A%20%20%20%20%20%20%20%20%3Crect%20x%3D%2284.35%22%20y%3D%2246.521%22%20width%3D%2282.01%22%20height%3D%2282.01%22%20style%3D%22fill%3Argb%28151%2C208%2C119%29%3Bstroke%3Ablack%3Bstroke-width%3A1px%3B%22%2F%3E%0D%0A%20%20%20%20%3C%2Fg%3E%0D%0A%20%20%20%20%3Cg%20transform%3D%22matrix%281%2C0%2C0%2C1%2C1547.83%2C48%29%22%3E%0D%0A%20%20%20%20%20%20%20%20%3Ctext%20x%3D%22115.625px%22%20y%3D%2283.587px%22%20style%3D%22font-family%3A%27ArialMT%27%2C%20%27Arial%27%2C%20sans-serif%3Bfont-size%3A50px%3B%22%3EB-4%3C%2Ftext%3E%0D%0A%20%20%20%20%3C%2Fg%3E%0D%0A%20%20%20%20%3Cg%20transform%3D%22matrix%281%2C0%2C0%2C1%2C1576.83%2C166%29%22%3E%0D%0A%20%20%20%20%20%20%20%20%3Crect%20x%3D%2284.35%22%20y%3D%2246.521%22%20width%3D%2282.01%22%20height%3D%2282.01%22%20style%3D%22fill%3Argb%28151%2C208%2C119%29%3Bstroke%3Ablack%3Bstroke-width%3A1px%3B%22%2F%3E%0D%0A%20%20%20%20%3C%2Fg%3E%0D%0A%20%20%20%20%3Cg%20transform%3D%22matrix%281%2C0%2C0%2C1%2C1547.83%2C188%29%22%3E%0D%0A%20%20%20%20%20%20%20%20%3Ctext%20x%3D%22115.625px%22%20y%3D%2283.587px%22%20style%3D%22font-family%3A%27ArialMT%27%2C%20%27Arial%27%2C%20sans-serif%3Bfont-size%3A50px%3B%22%3EB-4%3C%2Ftext%3E%0D%0A%20%20%20%20%3C%2Fg%3E%0D%0A%20%20%20%20%3Cg%20transform%3D%22matrix%281%2C0%2C0%2C1%2C670.827%2C306%29%22%3E%0D%0A%20%20%20%20%20%20%20%20%3Crect%20x%3D%2284.35%22%20y%3D%2246.521%22%20width%3D%2282.01%22%20height%3D%2282.01%22%20style%3D%22fill%3Argb%28208%2C124%2C127%29%3Bstroke%3Ablack%3Bstroke-width%3A1px%3B%22%2F%3E%0D%0A%20%20%20%20%3C%2Fg%3E%0D%0A%20%20%20%20%3Cg%20transform%3D%22matrix%281%2C0%2C0%2C1%2C648.827%2C328%29%22%3E%0D%0A%20%20%20%20%20%20%20%20%3Ctext%20x%3D%22115.625px%22%20y%3D%2283.587px%22%20style%3D%22font-family%3A%27ArialMT%27%2C%20%27Arial%27%2C%20sans-serif%3Bfont-size%3A50px%3B%22%3EC6%3C%2Ftext%3E%0D%0A%20%20%20%20%3C%2Fg%3E%0D%0A%20%20%20%20%3Cg%20transform%3D%22matrix%281%2C0%2C0%2C1%2C752.827%2C306%29%22%3E%0D%0A%20%20%20%20%20%20%20%20%3Crect%20x%3D%2284.35%22%20y%3D%2246.521%22%20width%3D%2282.01%22%20height%3D%2282.01%22%20style%3D%22fill%3Argb%28208%2C124%2C127%29%3Bstroke%3Ablack%3Bstroke-width%3A1px%3B%22%2F%3E%0D%0A%20%20%20%20%3C%2Fg%3E%0D%0A%20%20%20%20%3Cg%20transform%3D%22matrix%281%2C0%2C0%2C1%2C730.827%2C328%29%22%3E%0D%0A%20%20%20%20%20%20%20%20%3Ctext%20x%3D%22115.625px%22%20y%3D%2283.587px%22%20style%3D%22font-family%3A%27ArialMT%27%2C%20%27Arial%27%2C%20sans-serif%3Bfont-size%3A50px%3B%22%3EB4%3C%2Ftext%3E%0D%0A%20%20%20%20%3C%2Fg%3E%0D%0A%20%20%20%20%3Cg%20transform%3D%22matrix%281%2C0%2C0%2C1%2C834.827%2C306%29%22%3E%0D%0A%20%20%20%20%20%20%20%20%3Crect%20x%3D%2284.35%22%20y%3D%2246.521%22%20width%3D%2282.01%22%20height%3D%2282.01%22%20style%3D%22fill%3Argb%28151%2C208%2C119%29%3Bstroke%3Ablack%3Bstroke-width%3A1px%3B%22%2F%3E%0D%0A%20%20%20%20%3C%2Fg%3E%0D%0A%20%20%20%20%3Cg%20transform%3D%22matrix%281%2C0%2C0%2C1%2C805.827%2C328%29%22%3E%0D%0A%20%20%20%20%20%20%20%20%3Ctext%20x%3D%22115.625px%22%20y%3D%2283.587px%22%20style%3D%22font-family%3A%27ArialMT%27%2C%20%27Arial%27%2C%20sans-serif%3Bfont-size%3A50px%3B%22%3EB-4%3C%2Ftext%3E%0D%0A%20%20%20%20%3C%2Fg%3E%0D%0A%20%20%20%20%3Cg%20transform%3D%22matrix%281%2C0%2C0%2C1%2C916.827%2C306%29%22%3E%0D%0A%20%20%20%20%20%20%20%20%3Crect%20x%3D%2284.35%22%20y%3D%2246.521%22%20width%3D%2282.01%22%20height%3D%2282.01%22%20style%3D%22fill%3Argb%28151%2C208%2C119%29%3Bstroke%3Ablack%3Bstroke-width%3A1px%3B%22%2F%3E%0D%0A%20%20%20%20%3C%2Fg%3E%0D%0A%20%20%20%20%3Cg%20transform%3D%22matrix%281%2C0%2C0%2C1%2C893.827%2C328%29%22%3E%0D%0A%20%20%20%20%20%20%20%20%3Ctext%20x%3D%22115.625px%22%20y%3D%2283.587px%22%20style%3D%22font-family%3A%27ArialMT%27%2C%20%27Arial%27%2C%20sans-serif%3Bfont-size%3A50px%3B%22%3EG4%3C%2Ftext%3E%0D%0A%20%20%20%20%3C%2Fg%3E%0D%0A%20%20%20%20%3Cg%20transform%3D%22matrix%281%2C0%2C0%2C1%2C1017.83%2C166%29%22%3E%0D%0A%20%20%20%20%20%20%20%20%3Crect%20x%3D%2284.35%22%20y%3D%2246.521%22%20width%3D%2282.01%22%20height%3D%2282.01%22%20style%3D%22fill%3Argb%28151%2C208%2C119%29%3Bstroke%3Ablack%3Bstroke-width%3A1px%3B%22%2F%3E%0D%0A%20%20%20%20%3C%2Fg%3E%0D%0A%20%20%20%20%3Cg%20transform%3D%22matrix%281%2C0%2C0%2C1%2C994.827%2C188%29%22%3E%0D%0A%20%20%20%20%20%20%20%20%3Ctext%20x%3D%22115.625px%22%20y%3D%2283.587px%22%20style%3D%22font-family%3A%27ArialMT%27%2C%20%27Arial%27%2C%20sans-serif%3Bfont-size%3A50px%3B%22%3EG4%3C%2Ftext%3E%0D%0A%20%20%20%20%3C%2Fg%3E%0D%0A%20%20%20%20%3Cg%20transform%3D%22matrix%281%2C0%2C0%2C1%2C1659.83%2C166%29%22%3E%0D%0A%20%20%20%20%20%20%20%20%3Crect%20x%3D%2284.35%22%20y%3D%2246.521%22%20width%3D%2282.01%22%20height%3D%2282.01%22%20style%3D%22fill%3Argb%28151%2C208%2C119%29%3Bstroke%3Ablack%3Bstroke-width%3A1px%3B%22%2F%3E%0D%0A%20%20%20%20%3C%2Fg%3E%0D%0A%20%20%20%20%3Cg%20transform%3D%22matrix%281%2C0%2C0%2C1%2C1636.83%2C188%29%22%3E%0D%0A%20%20%20%20%20%20%20%20%3Ctext%20x%3D%22115.625px%22%20y%3D%2283.587px%22%20style%3D%22font-family%3A%27ArialMT%27%2C%20%27Arial%27%2C%20sans-serif%3Bfont-size%3A50px%3B%22%3EG4%3C%2Ftext%3E%0D%0A%20%20%20%20%3C%2Fg%3E%0D%0A%20%20%20%20%3Cg%20transform%3D%22matrix%281%2C0%2C0%2C1%2C1576.83%2C306%29%22%3E%0D%0A%20%20%20%20%20%20%20%20%3Crect%20x%3D%2284.35%22%20y%3D%2246.521%22%20width%3D%2282.01%22%20height%3D%2282.01%22%20style%3D%22fill%3Argb%28151%2C208%2C119%29%3Bstroke%3Ablack%3Bstroke-width%3A1px%3B%22%2F%3E%0D%0A%20%20%20%20%3C%2Fg%3E%0D%0A%20%20%20%20%3Cg%20transform%3D%22matrix%281%2C0%2C0%2C1%2C1547.83%2C328%29%22%3E%0D%0A%20%20%20%20%20%20%20%20%3Ctext%20x%3D%22115.625px%22%20y%3D%2283.587px%22%20style%3D%22font-family%3A%27ArialMT%27%2C%20%27Arial%27%2C%20sans-serif%3Bfont-size%3A50px%3B%22%3EB-4%3C%2Ftext%3E%0D%0A%20%20%20%20%3C%2Fg%3E%0D%0A%20%20%20%20%3Cg%20transform%3D%22matrix%281%2C0%2C0%2C1%2C1659.83%2C306%29%22%3E%0D%0A%20%20%20%20%20%20%20%20%3Crect%20x%3D%2284.35%22%20y%3D%2246.521%22%20width%3D%2282.01%22%20height%3D%2282.01%22%20style%3D%22fill%3Argb%28151%2C208%2C119%29%3Bstroke%3Ablack%3Bstroke-width%3A1px%3B%22%2F%3E%0D%0A%20%20%20%20%3C%2Fg%3E%0D%0A%20%20%20%20%3Cg%20transform%3D%22matrix%281%2C0%2C0%2C1%2C1636.83%2C328%29%22%3E%0D%0A%20%20%20%20%20%20%20%20%3Ctext%20x%3D%22115.625px%22%20y%3D%2283.587px%22%20style%3D%22font-family%3A%27ArialMT%27%2C%20%27Arial%27%2C%20sans-serif%3Bfont-size%3A50px%3B%22%3EG4%3C%2Ftext%3E%0D%0A%20%20%20%20%3C%2Fg%3E%0D%0A%20%20%20%20%3Cg%20transform%3D%22matrix%281%2C0%2C0%2C1%2C752.827%2C446%29%22%3E%0D%0A%20%20%20%20%20%20%20%20%3Crect%20x%3D%2284.35%22%20y%3D%2246.521%22%20width%3D%2282.01%22%20height%3D%2282.01%22%20style%3D%22fill%3Argb%28208%2C124%2C127%29%3Bstroke%3Ablack%3Bstroke-width%3A1px%3B%22%2F%3E%0D%0A%20%20%20%20%3C%2Fg%3E%0D%0A%20%20%20%20%3Cg%20transform%3D%22matrix%281%2C0%2C0%2C1%2C730.827%2C468%29%22%3E%0D%0A%20%20%20%20%20%20%20%20%3Ctext%20x%3D%22115.625px%22%20y%3D%2283.587px%22%20style%3D%22font-family%3A%27ArialMT%27%2C%20%27Arial%27%2C%20sans-serif%3Bfont-size%3A50px%3B%22%3EB4%3C%2Ftext%3E%0D%0A%20%20%20%20%3C%2Fg%3E%0D%0A%20%20%20%20%3Cg%20transform%3D%22matrix%281%2C0%2C0%2C1%2C834.827%2C446%29%22%3E%0D%0A%20%20%20%20%20%20%20%20%3Crect%20x%3D%2284.35%22%20y%3D%2246.521%22%20width%3D%2282.01%22%20height%3D%2282.01%22%20style%3D%22fill%3Argb%28151%2C208%2C119%29%3Bstroke%3Ablack%3Bstroke-width%3A1px%3B%22%2F%3E%0D%0A%20%20%20%20%3C%2Fg%3E%0D%0A%20%20%20%20%3Cg%20transform%3D%22matrix%281%2C0%2C0%2C1%2C805.827%2C468%29%22%3E%0D%0A%20%20%20%20%20%20%20%20%3Ctext%20x%3D%22115.625px%22%20y%3D%2283.587px%22%20style%3D%22font-family%3A%27ArialMT%27%2C%20%27Arial%27%2C%20sans-serif%3Bfont-size%3A50px%3B%22%3EB-4%3C%2Ftext%3E%0D%0A%20%20%20%20%3C%2Fg%3E%0D%0A%20%20%20%20%3Cg%20transform%3D%22matrix%281%2C0%2C0%2C1%2C916.827%2C446%29%22%3E%0D%0A%20%20%20%20%20%20%20%20%3Crect%20x%3D%2284.35%22%20y%3D%2246.521%22%20width%3D%2282.01%22%20height%3D%2282.01%22%20style%3D%22fill%3Argb%28151%2C208%2C119%29%3Bstroke%3Ablack%3Bstroke-width%3A1px%3B%22%2F%3E%0D%0A%20%20%20%20%3C%2Fg%3E%0D%0A%20%20%20%20%3Cg%20transform%3D%22matrix%281%2C0%2C0%2C1%2C893.827%2C468%29%22%3E%0D%0A%20%20%20%20%20%20%20%20%3Ctext%20x%3D%22115.625px%22%20y%3D%2283.587px%22%20style%3D%22font-family%3A%27ArialMT%27%2C%20%27Arial%27%2C%20sans-serif%3Bfont-size%3A50px%3B%22%3EG4%3C%2Ftext%3E%0D%0A%20%20%20%20%3C%2Fg%3E%0D%0A%20%20%20%20%3Cg%20transform%3D%22matrix%281%2C0%2C0%2C1%2C998.827%2C446%29%22%3E%0D%0A%20%20%20%20%20%20%20%20%3Crect%20x%3D%2284.35%22%20y%3D%2246.521%22%20width%3D%2282.01%22%20height%3D%2282.01%22%20style%3D%22fill%3Argb%28151%2C208%2C119%29%3Bstroke%3Ablack%3Bstroke-width%3A1px%3B%22%2F%3E%0D%0A%20%20%20%20%3C%2Fg%3E%0D%0A%20%20%20%20%3Cg%20transform%3D%22matrix%281%2C0%2C0%2C1%2C978.827%2C468%29%22%3E%0D%0A%20%20%20%20%20%20%20%20%3Ctext%20x%3D%22115.625px%22%20y%3D%2283.587px%22%20style%3D%22font-family%3A%27ArialMT%27%2C%20%27Arial%27%2C%20sans-serif%3Bfont-size%3A50px%3B%22%3EA4%3C%2Ftext%3E%0D%0A%20%20%20%20%3C%2Fg%3E%0D%0A%20%20%20%20%3Cg%20transform%3D%22matrix%281%2C0%2C0%2C1%2C1095.83%2C306%29%22%3E%0D%0A%20%20%20%20%20%20%20%20%3Crect%20x%3D%2284.35%22%20y%3D%2246.521%22%20width%3D%2282.01%22%20height%3D%2282.01%22%20style%3D%22fill%3Argb%28151%2C208%2C119%29%3Bstroke%3Ablack%3Bstroke-width%3A1px%3B%22%2F%3E%0D%0A%20%20%20%20%3C%2Fg%3E%0D%0A%20%20%20%20%3Cg%20transform%3D%22matrix%281%2C0%2C0%2C1%2C1076.83%2C328%29%22%3E%0D%0A%20%20%20%20%20%20%20%20%3Ctext%20x%3D%22115.625px%22%20y%3D%2283.587px%22%20style%3D%22font-family%3A%27ArialMT%27%2C%20%27Arial%27%2C%20sans-serif%3Bfont-size%3A50px%3B%22%3EA4%3C%2Ftext%3E%0D%0A%20%20%20%20%3C%2Fg%3E%0D%0A%20%20%20%20%3Cg%20transform%3D%22matrix%281%2C0%2C0%2C1%2C1742.83%2C306%29%22%3E%0D%0A%20%20%20%20%20%20%20%20%3Crect%20x%3D%2284.35%22%20y%3D%2246.521%22%20width%3D%2282.01%22%20height%3D%2282.01%22%20style%3D%22fill%3Argb%28151%2C208%2C119%29%3Bstroke%3Ablack%3Bstroke-width%3A1px%3B%22%2F%3E%0D%0A%20%20%20%20%3C%2Fg%3E%0D%0A%20%20%20%20%3Cg%20transform%3D%22matrix%281%2C0%2C0%2C1%2C1723.83%2C328%29%22%3E%0D%0A%20%20%20%20%20%20%20%20%3Ctext%20x%3D%22115.625px%22%20y%3D%2283.587px%22%20style%3D%22font-family%3A%27ArialMT%27%2C%20%27Arial%27%2C%20sans-serif%3Bfont-size%3A50px%3B%22%3EA4%3C%2Ftext%3E%0D%0A%20%20%20%20%3C%2Fg%3E%0D%0A%20%20%20%20%3Cg%20transform%3D%22matrix%281%2C0%2C0%2C1%2C1576.83%2C436%29%22%3E%0D%0A%20%20%20%20%20%20%20%20%3Crect%20x%3D%2284.35%22%20y%3D%2246.521%22%20width%3D%2282.01%22%20height%3D%2282.01%22%20style%3D%22fill%3Argb%28151%2C208%2C119%29%3Bstroke%3Ablack%3Bstroke-width%3A1px%3B%22%2F%3E%0D%0A%20%20%20%20%3C%2Fg%3E%0D%0A%20%20%20%20%3Cg%20transform%3D%22matrix%281%2C0%2C0%2C1%2C1547.83%2C458%29%22%3E%0D%0A%20%20%20%20%20%20%20%20%3Ctext%20x%3D%22115.625px%22%20y%3D%2283.587px%22%20style%3D%22font-family%3A%27ArialMT%27%2C%20%27Arial%27%2C%20sans-serif%3Bfont-size%3A50px%3B%22%3EB-4%3C%2Ftext%3E%0D%0A%20%20%20%20%3C%2Fg%3E%0D%0A%20%20%20%20%3Cg%20transform%3D%22matrix%281%2C0%2C0%2C1%2C1659.83%2C436%29%22%3E%0D%0A%20%20%20%20%20%20%20%20%3Crect%20x%3D%2284.35%22%20y%3D%2246.521%22%20width%3D%2282.01%22%20height%3D%2282.01%22%20style%3D%22fill%3Argb%28151%2C208%2C119%29%3Bstroke%3Ablack%3Bstroke-width%3A1px%3B%22%2F%3E%0D%0A%20%20%20%20%3C%2Fg%3E%0D%0A%20%20%20%20%3Cg%20transform%3D%22matrix%281%2C0%2C0%2C1%2C1636.83%2C458%29%22%3E%0D%0A%20%20%20%20%20%20%20%20%3Ctext%20x%3D%22115.625px%22%20y%3D%2283.587px%22%20style%3D%22font-family%3A%27ArialMT%27%2C%20%27Arial%27%2C%20sans-serif%3Bfont-size%3A50px%3B%22%3EG4%3C%2Ftext%3E%0D%0A%20%20%20%20%3C%2Fg%3E%0D%0A%20%20%20%20%3Cg%20transform%3D%22matrix%281%2C0%2C0%2C1%2C1742.83%2C436%29%22%3E%0D%0A%20%20%20%20%20%20%20%20%3Crect%20x%3D%2284.35%22%20y%3D%2246.521%22%20width%3D%2282.01%22%20height%3D%2282.01%22%20style%3D%22fill%3Argb%28151%2C208%2C119%29%3Bstroke%3Ablack%3Bstroke-width%3A1px%3B%22%2F%3E%0D%0A%20%20%20%20%3C%2Fg%3E%0D%0A%20%20%20%20%3Cg%20transform%3D%22matrix%281%2C0%2C0%2C1%2C1824.83%2C436%29%22%3E%0D%0A%20%20%20%20%20%20%20%20%3Crect%20x%3D%2284.35%22%20y%3D%2246.521%22%20width%3D%2282.01%22%20height%3D%2282.01%22%20style%3D%22fill%3Argb%28151%2C208%2C119%29%3Bstroke%3Ablack%3Bstroke-width%3A1px%3B%22%2F%3E%0D%0A%20%20%20%20%3C%2Fg%3E%0D%0A%20%20%20%20%3Cg%20transform%3D%22matrix%281%2C0%2C0%2C1%2C1723.83%2C458%29%22%3E%0D%0A%20%20%20%20%20%20%20%20%3Ctext%20x%3D%22115.625px%22%20y%3D%2283.587px%22%20style%3D%22font-family%3A%27ArialMT%27%2C%20%27Arial%27%2C%20sans-serif%3Bfont-size%3A50px%3B%22%3EA4%3C%2Ftext%3E%0D%0A%20%20%20%20%3C%2Fg%3E%0D%0A%20%20%20%20%3Cg%20transform%3D%22matrix%280.50007%2C0%2C0%2C1%2C796.352%2C-373.498%29%22%3E%0D%0A%20%20%20%20%20%20%20%20%3Cpath%20d%3D%22M275.736%2C494.2L275.736%2C479.848L374.611%2C479.848L374.611%2C466.521L415.61%2C487.024L374.611%2C507.526L374.611%2C494.2L275.736%2C494.2Z%22%2F%3E%0D%0A%20%20%20%20%3C%2Fg%3E%0D%0A%20%20%20%20%3Cg%20transform%3D%22matrix%280.50007%2C0%2C0%2C1%2C878.844%2C-233.498%29%22%3E%0D%0A%20%20%20%20%20%20%20%20%3Cpath%20d%3D%22M275.736%2C494.2L275.736%2C479.848L374.611%2C479.848L374.611%2C466.521L415.61%2C487.024L374.611%2C507.526L374.611%2C494.2L275.736%2C494.2Z%22%2F%3E%0D%0A%20%20%20%20%3C%2Fg%3E%0D%0A%20%20%20%20%3Cg%20transform%3D%22matrix%280.50007%2C0%2C0%2C1%2C957.352%2C-93.4975%29%22%3E%0D%0A%20%20%20%20%20%20%20%20%3Cpath%20d%3D%22M275.736%2C494.2L275.736%2C479.848L374.611%2C479.848L374.611%2C466.521L415.61%2C487.024L374.611%2C507.526L374.611%2C494.2L275.736%2C494.2Z%22%2F%3E%0D%0A%20%20%20%20%3C%2Fg%3E%0D%0A%20%20%20%20%3Cg%20transform%3D%22matrix%280.50007%2C0%2C0%2C1%2C1039.35%2C46.5025%29%22%3E%0D%0A%20%20%20%20%20%20%20%20%3Cpath%20d%3D%22M275.736%2C494.2L275.736%2C479.848L374.611%2C479.848L374.611%2C466.521L415.61%2C487.024L374.611%2C507.526L374.611%2C494.2L275.736%2C494.2Z%22%2F%3E%0D%0A%20%20%20%20%3C%2Fg%3E%0D%0A%20%20%20%20%3Cg%20transform%3D%22matrix%281%2C0%2C0%2C1%2C205.216%2C-531.178%29%22%3E%0D%0A%20%20%20%20%20%20%20%20%3Ctext%20x%3D%22517.599px%22%20y%3D%22569.231px%22%20style%3D%22font-family%3A%27LMMath-Regular%27%2C%20%27Latin%20Modern%20Math%27%3Bfont-size%3A37.5px%3B%22%3Eseed%3C%2Ftext%3E%0D%0A%20%20%20%20%3C%2Fg%3E%0D%0A%20%20%20%20%3Cg%20transform%3D%22matrix%281%2C0%2C0%2C1%2C460.216%2C-531.178%29%22%3E%0D%0A%20%20%20%20%20%20%20%20%3Ctext%20x%3D%22517.599px%22%20y%3D%22569.231px%22%20style%3D%22font-family%3A%27LMMath-Regular%27%2C%20%27Latin%20Modern%20Math%27%3Bfont-size%3A37.5px%3B%22%3Eprediction%3C%2Ftext%3E%0D%0A%20%20%20%20%3C%2Fg%3E%0D%0A%20%20%20%20%3Cg%20transform%3D%22matrix%281%2C0%2C0%2C1%2C745.116%2C-32.5778%29%22%3E%0D%0A%20%20%20%20%20%20%20%20%3Ctext%20x%3D%22517.599px%22%20y%3D%22569.231px%22%20style%3D%22font-family%3A%27LMMath-Regular%27%2C%20%27Latin%20Modern%20Math%27%3Bfont-size%3A62.5px%3B%22%3E...%3C%2Ftext%3E%0D%0A%20%20%20%20%3C%2Fg%3E%0D%0A%20%20%20%20%3Cg%20transform%3D%22matrix%281%2C0%2C0%2C1%2C1406.52%2C-42.2273%29%22%3E%0D%0A%20%20%20%20%20%20%20%20%3Ctext%20x%3D%22517.599px%22%20y%3D%22569.231px%22%20style%3D%22font-family%3A%27LMMath-Regular%27%2C%20%27Latin%20Modern%20Math%27%3Bfont-size%3A62.5px%3B%22%3E...%3C%2Ftext%3E%0D%0A%20%20%20%20%3C%2Fg%3E%0D%0A%20%20%20%20%3Cg%20transform%3D%22matrix%282.01933e-16%2C-0.71323%2C4.12755%2C1.16899e-15%2C-1631.49%2C328.808%29%22%3E%0D%0A%20%20%20%20%20%20%20%20%3Ctext%20x%3D%22353.101px%22%20y%3D%22598.079px%22%20style%3D%22font-family%3A%27LMMath-Regular%27%2C%20%27Latin%20Modern%20Math%27%3Bfont-size%3A79.542px%3B%22%3E%7D%3C%2Ftext%3E%0D%0A%20%20%20%20%3C%2Fg%3E%0D%0A%20%20%20%20%3Cg%20transform%3D%22matrix%282.01933e-16%2C-0.71323%2C4.12755%2C1.16899e-15%2C-561.494%2C328.808%29%22%3E%0D%0A%20%20%20%20%20%20%20%20%3Ctext%20x%3D%22353.101px%22%20y%3D%22598.079px%22%20style%3D%22font-family%3A%27LMMath-Regular%27%2C%20%27Latin%20Modern%20Math%27%3Bfont-size%3A79.542px%3B%22%3E%7D%3C%2Ftext%3E%0D%0A%20%20%20%20%3C%2Fg%3E%0D%0A%20%20%20%20%3Cg%20transform%3D%22matrix%282.01933e-16%2C-0.71323%2C1.04117%2C2.94875e-16%2C458.116%2C328.808%29%22%3E%0D%0A%20%20%20%20%20%20%20%20%3Ctext%20x%3D%22353.101px%22%20y%3D%22598.079px%22%20style%3D%22font-family%3A%27LMMath-Regular%27%2C%20%27Latin%20Modern%20Math%27%3Bfont-size%3A79.542px%3B%22%3E%7D%3C%2Ftext%3E%0D%0A%20%20%20%20%3C%2Fg%3E%0D%0A%20%20%20%20%3Cg%20transform%3D%22matrix%281%2C0%2C0%2C1%2C1123.22%2C-531.178%29%22%3E%0D%0A%20%20%20%20%20%20%20%20%3Ctext%20x%3D%22517.599px%22%20y%3D%22569.231px%22%20style%3D%22font-family%3A%27LMMath-Regular%27%2C%20%27Latin%20Modern%20Math%27%3Bfont-size%3A37.5px%3B%22%3Egenerated%20comp%3Ctspan%20x%3D%22777.062px%20%22%20y%3D%22569.231px%20%22%3Eo%3C%2Ftspan%3Esition%3C%2Ftext%3E%0D%0A%20%20%20%20%3C%2Fg%3E%0D%0A%20%20%20%20%3Cg%20transform%3D%22matrix%284.14714e-16%2C-6.7728%2C6.7728%2C4.14714e-16%2C1280.62%2C11356.2%29%22%3E%0D%0A%20%20%20%20%20%20%20%20%3Cpath%20d%3D%22M1672.64%2C28.679L1593.64%2C28.904%22%20style%3D%22fill%3Anone%3Bstroke%3Ablack%3Bstroke-width%3A0.15px%3Bstroke-dasharray%3A1.48%2C1.48%2C0%2C0%3B%22%2F%3E%0D%0A%20%20%20%20%3C%2Fg%3E%0D%0A%3C%2Fsvg%3E%0D%0A\" />\n",
    "\n",
    "#### Tasks:\n",
    "* Implement the procedure described above to generate a sequence of 500 notes or chords.\n",
    "\n",
    "#### Hints:\n",
    "* Use a sample from the training data as the seed. This does not mean that the network will generate the same melody as in the song the seed is chosen from. As we use the prediction in the next round to predict the next tone, imperfections in the network's predictions will propagate and thus the generated output will *drift* from the seed more and more.\n",
    "* Do not include the seed in your generated song (that would be cheating, right?)"
   ]
  },
  {
   "cell_type": "code",
   "execution_count": null,
   "metadata": {
    "ExecuteTime": {
     "end_time": "2018-05-30T07:24:41.067049Z",
     "start_time": "2018-05-30T07:24:19.546859Z"
    }
   },
   "outputs": [],
   "source": [
    "def "
   ]
  },
  {
   "cell_type": "markdown",
   "metadata": {},
   "source": [
    "Now that you have a list of tones in integer representation, you need to convert it back to ```music21.note.Note``` and ```music21.chord.Chord``` objects that are arranged in a flat midi-stream.\n",
    "\n",
    "#### Tasks:\n",
    "* convert the generated song to a ```music21.stream.Stream``` by first mapping each int back to the string representation and then creating notes and chords.\n",
    "\n",
    "#### Hints:\n",
    "* for notes you can simply pass the string representation to the ```music21.note.Note``` constructor \n",
    "* for chords you first need to split the string into single notes and assemble them into a ```music21.chord.Chord```\n",
    "* as our model is not able to predict any property other than the next note/chord, we can only use a fixed tone duration. Give each chord/note a fixed offet of $\\frac{1}{2}$ bar.\n",
    "* specify a [```music21.Instrument()```](http://web.mit.edu/music21/doc/moduleReference/moduleInstrument.html#piano) to each note"
   ]
  },
  {
   "cell_type": "code",
   "execution_count": null,
   "metadata": {
    "ExecuteTime": {
     "end_time": "2018-05-30T07:24:41.147925Z",
     "start_time": "2018-05-30T07:24:41.069566Z"
    }
   },
   "outputs": [],
   "source": []
  },
  {
   "cell_type": "markdown",
   "metadata": {},
   "source": [
    "You can now use the ```show()``` method of the stream to listen to the generated masterpiece or save it to disk for later enjoyment using the ```write()``` method."
   ]
  },
  {
   "cell_type": "code",
   "execution_count": null,
   "metadata": {
    "ExecuteTime": {
     "end_time": "2018-05-30T07:25:47.213553Z",
     "start_time": "2018-05-30T07:25:46.564076Z"
    }
   },
   "outputs": [],
   "source": []
  },
  {
   "cell_type": "markdown",
   "metadata": {},
   "source": [
    "## Further Ideas\n",
    "\n",
    "### Simple:\n",
    "* Experiment with different network architectures (GRU, Bidirectional, ...) (As training always takes a long time, this may produce limited outcome)\n",
    "* Experiment with the effect of different hyperparameters. For example a very short sequence length speeds up training quite a bit, how does the generated output change (which patterns do occur)\n",
    "\n",
    "### Advanced:\n",
    "* Use a different loss function (maybe use the 'closeness' to the correct note instead of cross-entropy as the notes are not completely seperate classes, maybe employ some music theory if you have any)\n",
    "* Use more input dimensions. Maybe add the duration of a tone or other properties.\n",
    "* Use distributed representations of tones. In a distributed embedding space, similarities between notes could be mapped. You could learn the embedding using the skip-gram method on the note-entities.\n",
    "* Use a completley different method to generate music. For example [waveGANs](https://github.com/chrisdonahue/wavegan/blob/master/README.md) generate sound using raw ausio samples. You could render your midi into wav and use the waveGAN technique or encode your data in another way and try to create your own GAN architecture.\n",
    "* try to let the network predict different tone lengths (you could quantize length to e.g. 3 different lengths ($\\frac{1}{4}$ bar resolution) and encode the combination of tone+duration as a single entity. As this would increase the input and output space by a factor of 3, a distributed representation of tones could help)\n",
    "\n",
    "#### Disclaimer:\n",
    "All ideas above are untested, so I can't promise a successful outcome. Of course you can always implement your own ideas."
   ]
  }
 ],
 "metadata": {
  "kernelspec": {
   "display_name": "myenv3",
   "language": "python",
   "name": "myenv3"
  },
  "language_info": {
   "codemirror_mode": {
    "name": "ipython",
    "version": 3
   },
   "file_extension": ".py",
   "mimetype": "text/x-python",
   "name": "python",
   "nbconvert_exporter": "python",
   "pygments_lexer": "ipython3",
   "version": "3.9.15"
  },
  "vscode": {
   "interpreter": {
    "hash": "916dbcbb3f70747c44a77c7bcd40155683ae19c65e1c03b4aa3499c5328201f1"
   }
  }
 },
 "nbformat": 4,
 "nbformat_minor": 4
}
